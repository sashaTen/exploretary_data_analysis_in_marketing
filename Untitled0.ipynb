{
  "cells": [
    {
      "cell_type": "markdown",
      "metadata": {
        "id": "view-in-github",
        "colab_type": "text"
      },
      "source": [
        "<a href=\"https://colab.research.google.com/github/sashaTen/python_for_data-_science-/blob/main/Untitled0.ipynb\" target=\"_parent\"><img src=\"https://colab.research.google.com/assets/colab-badge.svg\" alt=\"Open In Colab\"/></a>"
      ]
    },
    {
      "cell_type": "code",
      "source": [
        "#    stats   :\n",
        "# #The typical steps are:\n",
        "# Gathering data\n",
        "# Describing and visualizing data\n",
        "# Making conclusions\n",
        "\n",
        "# If the members of the sample have similar characteristics (like age, profession, etc.)\n",
        "#  to the whole population of France, we say that the sample is representative of the population.\n",
        "\n",
        "# A good representative sample is crucial for statistical methods.\n",
        "# Probability theory is used to calculate the certainty that those statistics also apply to the population.\n",
        "\n",
        "# When using a sample, there will always be some uncertainty about what the data looks like for the population.\n",
        "\n",
        "# Uncertainty is often expressed as confidence intervals.\n",
        "\n",
        "# Hypothesis testing is a another way of checking if a statement about a population is true. More precisely, it checks how likely it is that a hypothesis is true is based on the sample data.\n",
        "\n",
        "# Some examples of statements or questions that can be checked with hypothesis testing:\n",
        "\n",
        "# People in the Netherlands taller than people in Denmark\n",
        "# Do people prefer Pepsi or Coke?\n",
        "# # Does a new medicine cure a disease?\n",
        "# Causal Inference\n",
        "# Causal inference is used to investigate if something causes another thing.\n",
        "\n",
        "# For example: Does rain make plants grow?\n",
        "\n",
        "# If we think two things are related we can investigate to see if they correlate. Statistics can be used to find out how strong this relation is.\n",
        "# The main types of statistical studies are observational and experimental studies.\n",
        "\n",
        "# There are two main types of data: Qualitative (or 'categorical') and quantitative (or 'numerical').\n",
        "#  These main types also have different sub-types depending on their measurement level.\n",
        "# qualitive  : 1   Nominal (brand ,  color   ,  country) 2  ordinal(militry  rank ,   grade)\n",
        "# quantitive  :   1   interval  (year   , temperrature)  2  ratio (money ,  age  , time)\n",
        "\n",
        "# \n",
        "\n",
        "\n",
        "# ratio  and  interval   \n",
        "# interval   -   type  where   you  know the  order   and the   difference\n",
        "# for  example  you   know that    50 degree is  higher  than  1 degree\n",
        "# ratio -     is   about    quantity .   but  they  do  not  provide   the  order\n",
        "\n",
        "# interval   data  is  very   similar  to the    \n",
        "# ordinal  data    \n",
        "# even   the way   we  analyze  them  are   kinda\n",
        "# similar\n",
        "\n",
        "\n",
        "# for   example if   you  are not  sure  about \n",
        "# type  of   data   you  should   just  google\n",
        "# ex:    is  height ratio  or    interval\n",
        "import numpy  as  np \n",
        "\n",
        "c = np.array([[1, 2, 3], [4, 5, 6] ] )\n",
        "# print(c[0,1]+ c[1,2])\n",
        "\n",
        "\n",
        "#lsicing\n",
        "arr = np.array([1, 2, 3, 4, 5, 6, 7])\n",
        "# print(arr[1:5])#  slicing\n",
        "# print(arr[3:])\n",
        "# print(arr[:5])\n",
        "# step\n",
        "# print(arr[2:5:2])/\n",
        "# print(c[0 ,:1] , c[1 ,    1:])    #  slicing  of   two  deminsional  arrays \n",
        "# print(c[0: ,   0])     #  this is  how to   you  can return   first   elelents   from  all dimpirnt\n",
        "\n",
        "# print(c.dtype )\n",
        "# this  is  how you  can  transform  your  data =  by   adding   dtype  =  's'  to     arr\n",
        "\n",
        "# print(c)\n",
        "# The main difference between a copy and a view of an array is that the copy is a new array, and the view is just a view of the original array.\n",
        "# print(c.shape)#/   shape  helps  us   to  see the form   \n",
        "arr = np.array([1, 2, 3, 4, 5, 6, 7, 8, 9, 10, 211, 12])\n",
        "# new_arr =  arr.reshape(4,3)   #\n",
        "# print(new_arr)    very   important  feature   because   you  cAn  reshape   single dimension  array\n",
        "# into    many  \n",
        "# we can  use  for  to  iterate  throught  arrays \n",
        "# iterate   one  dimension\n",
        "# iterate   two    dimension   \n",
        "# and    each  item\n",
        "# for i  in    arr:\n",
        "#   print(i)\n",
        "\n",
        "newarr   =    arr.reshape(3,4)\n",
        "# for  i  in  newarr :\n",
        "#   for   j   in  i:\n",
        "#     print(j)\n",
        "# for i  in   newarr[1]:\n",
        "#   print(i)\n",
        "\n",
        "# print(np.where(newarr==5))     good   searching techniquee which   finds  the   index of the desired  value \n",
        "# x = np.where(newarr%2 == 0)\n",
        "# print(x)\n",
        "#    with   np.methods(here   you  can   do   amazing   manipulations  with   arrays)\n",
        "#   you  can  split  \n",
        "#   you can  filter  the   arrays \n",
        "\n"
      ],
      "metadata": {
        "id": "uVRQjf8UWBcy"
      },
      "execution_count": 2,
      "outputs": []
    },
    {
      "cell_type": "code",
      "source": [
        "import    pandas  as  pd \n",
        "dataset  =   pd.read_csv(\"https://www.w3schools.com/python/pandas/data.csv.txt\")\n"
      ],
      "metadata": {
        "colab": {
          "base_uri": "https://localhost:8080/"
        },
        "id": "g144yhk9Tf3z",
        "outputId": "4e895ee8-b839-4f17-f64a-622cbed2ffee"
      },
      "execution_count": 19,
      "outputs": [
        {
          "output_type": "stream",
          "name": "stdout",
          "text": [
            "<class 'pandas.core.frame.DataFrame'>\n",
            "RangeIndex: 169 entries, 0 to 168\n",
            "Data columns (total 4 columns):\n",
            " #   Column    Non-Null Count  Dtype  \n",
            "---  ------    --------------  -----  \n",
            " 0   Duration  169 non-null    int64  \n",
            " 1   Pulse     169 non-null    int64  \n",
            " 2   Maxpulse  169 non-null    int64  \n",
            " 3   Calories  164 non-null    float64\n",
            "dtypes: float64(1), int64(3)\n",
            "memory usage: 5.4 KB\n",
            "None\n"
          ]
        }
      ]
    }
  ],
  "metadata": {
    "colab": {
      "provenance": [],
      "authorship_tag": "ABX9TyOcOdP46fzN2FG9CkDlc4Dj",
      "include_colab_link": true
    },
    "kernelspec": {
      "display_name": "Python 3",
      "name": "python3"
    }
  },
  "nbformat": 4,
  "nbformat_minor": 0
}
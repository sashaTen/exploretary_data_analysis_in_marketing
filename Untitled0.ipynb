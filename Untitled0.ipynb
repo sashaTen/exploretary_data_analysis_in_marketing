{
  "cells": [
    {
      "cell_type": "markdown",
      "metadata": {
        "id": "view-in-github",
        "colab_type": "text"
      },
      "source": [
        "<a href=\"https://colab.research.google.com/github/sashaTen/exploretary_data_analysis_in_marketing/blob/main/Untitled0.ipynb\" target=\"_parent\"><img src=\"https://colab.research.google.com/assets/colab-badge.svg\" alt=\"Open In Colab\"/></a>"
      ]
    },
    {
      "cell_type": "code",
      "source": [
        "%matplotlib inline\n",
        "\n",
        "from pathlib import Path\n",
        "\n",
        "import pandas as pd\n",
        "import numpy as np\n",
        "from scipy.stats import trim_mean\n",
        "from statsmodels import robust\n",
        "\n",
        "\n",
        "import seaborn as sns\n",
        "import matplotlib.pylab as plt\n",
        "\n",
        "\n",
        "# Table 1-2\n",
        "state = pd.read_csv(\"https://raw.githubusercontent.com/gedeck/practical-statistics-for-data-scientists/master/data/state.csv\")\n",
        "#print(state.head(8))\n",
        "#mean, trimmed mean, and median \n",
        "population  =    state[\"Population\"]\n",
        "#print(population.mean())\n",
        "#6162876.3\n",
        "meanPOPULATION  =    population.mean()\n",
        "medianPOPULATION   =    population.median()\n",
        "trim_meanPOPULATION    =trim_mean(state['Population'], 0.1)\n",
        "print(   \"   mean:\" ,    meanPOPULATION    ,   \"       median:\"  ,    medianPOPULATION ,  \"        trim   mean:\"   ,   trim_meanPOPULATION)"
      ],
      "metadata": {
        "colab": {
          "base_uri": "https://localhost:8080/"
        },
        "id": "Ch4jW3V432Y3",
        "outputId": "19b64fe3-cd88-4c92-e213-4e3a3e4219a5"
      },
      "execution_count": 2,
      "outputs": [
        {
          "output_type": "stream",
          "name": "stdout",
          "text": [
            "   mean: 6162876.3        median: 4436369.5         trim   mean: 4783697.125\n"
          ]
        }
      ]
    },
    {
      "cell_type": "code",
      "source": [
        "stdPOPULATION  =  population.std()\n",
        "print(stdPOPULATION)\n"
      ],
      "metadata": {
        "colab": {
          "base_uri": "https://localhost:8080/"
        },
        "id": "HeWw8btc7E98",
        "outputId": "6c540dd9-8be1-483d-bb7a-3abe1a1cbde4"
      },
      "execution_count": 3,
      "outputs": [
        {
          "output_type": "stream",
          "name": "stdout",
          "text": [
            "6848235.347401142\n"
          ]
        }
      ]
    },
    {
      "cell_type": "code",
      "source": [
        "print(population.quantile(0.75)  -    population.quantile(0.25)  ,   '  '  ,  stdPOPULATION )"
      ],
      "metadata": {
        "colab": {
          "base_uri": "https://localhost:8080/"
        },
        "id": "le_oge0Q7GhH",
        "outputId": "ff6c7812-aba3-4dcc-b034-c48cf4298bca"
      },
      "execution_count": 4,
      "outputs": [
        {
          "output_type": "stream",
          "name": "stdout",
          "text": [
            "4847308.0    6848235.347401142\n"
          ]
        }
      ]
    },
    {
      "cell_type": "code",
      "source": [
        "print(state[\"Murder.Rate\"].mean() ,   \"  and trim   mean \",     trim_mean(state[\"Murder.Rate\"] ,   0.1))"
      ],
      "metadata": {
        "id": "FKjbEcfyCATI",
        "colab": {
          "base_uri": "https://localhost:8080/"
        },
        "outputId": "e6a1b1df-0c00-4eb2-8f27-02c02819ea5d"
      },
      "execution_count": 5,
      "outputs": [
        {
          "output_type": "stream",
          "name": "stdout",
          "text": [
            "4.066   and trim   mean  3.9450000000000003\n"
          ]
        }
      ]
    },
    {
      "cell_type": "code",
      "source": [
        "binnedPOPULATION    =   pd.cut(population,  10)\n",
        "print(binnedPOPULATION.value_counts())"
      ],
      "metadata": {
        "colab": {
          "base_uri": "https://localhost:8080/"
        },
        "id": "VIGcDfabZzo3",
        "outputId": "ae3e1430-5200-4bb7-df49-96733474b422"
      },
      "execution_count": 6,
      "outputs": [
        {
          "output_type": "stream",
          "name": "stdout",
          "text": [
            "(526935.67, 4232659.0]      24\n",
            "(4232659.0, 7901692.0]      14\n",
            "(7901692.0, 11570725.0]      6\n",
            "(11570725.0, 15239758.0]     2\n",
            "(15239758.0, 18908791.0]     1\n",
            "(18908791.0, 22577824.0]     1\n",
            "(22577824.0, 26246857.0]     1\n",
            "(33584923.0, 37253956.0]     1\n",
            "(26246857.0, 29915890.0]     0\n",
            "(29915890.0, 33584923.0]     0\n",
            "Name: Population, dtype: int64\n"
          ]
        }
      ]
    },
    {
      "cell_type": "code",
      "source": [
        "percentiles =   [0.5,0.25,0.5,0.75,0.95]\n",
        "for x in range(len(percentiles)):\n",
        "  print(   percentiles[x]*10,\"% : \",     state[\"Murder.Rate\"].quantile(percentiles[x]))\n",
        "\n",
        "\n"
      ],
      "metadata": {
        "colab": {
          "base_uri": "https://localhost:8080/"
        },
        "id": "8W_C9dL2BqV-",
        "outputId": "0bfe48fc-3cc3-44b4-9c05-52b9a56f4bd1"
      },
      "execution_count": 7,
      "outputs": [
        {
          "output_type": "stream",
          "name": "stdout",
          "text": [
            "5.0 % :  4.0\n",
            "2.5 % :  2.425\n",
            "5.0 % :  4.0\n",
            "7.5 % :  5.55\n",
            "9.5 % :  6.51\n"
          ]
        }
      ]
    },
    {
      "cell_type": "code",
      "source": [
        "import numpy as np\n",
        "###   JUST    TRIED  TO  UNDERSTAND THE   HISTOGRAMM\n",
        "\n",
        "list = []\n",
        "\n",
        "for x  in  range(10):\n",
        "  list.append(np.random.randint(0, 100))\n",
        "\n",
        "#print(list)\n",
        "df =    pd.DataFrame(list)\n",
        "#df.hist()\n",
        "list2 =  []\n",
        "for    i   in   range(70):\n",
        "   list2.append(1)\n",
        "df2 =     pd.DataFrame(list2)\n",
        "concated  =   [df  ,   df2]\n",
        "unitedDF =     pd.concat(concated)\n",
        "unitedDF.hist()\n",
        "\n"
      ],
      "metadata": {
        "colab": {
          "base_uri": "https://localhost:8080/",
          "height": 316
        },
        "id": "s8nRaprPFMtD",
        "outputId": "4b754c16-ad7e-4d7b-8964-5a6ad3f64291"
      },
      "execution_count": 8,
      "outputs": [
        {
          "output_type": "execute_result",
          "data": {
            "text/plain": [
              "array([[<matplotlib.axes._subplots.AxesSubplot object at 0x7f4c4d49df90>]],\n",
              "      dtype=object)"
            ]
          },
          "metadata": {},
          "execution_count": 8
        },
        {
          "output_type": "display_data",
          "data": {
            "text/plain": [
              "<Figure size 432x288 with 1 Axes>"
            ],
            "image/png": "[encoded data removed]"
          },
          "metadata": {
            "needs_background": "light"
          }
        }
      ]
    },
    {
      "cell_type": "code",
      "source": [
        "plt.hist(population,  bins=10)\n",
        "plt.show()\n"
      ],
      "metadata": {
        "id": "aChJ5kzaJrDK",
        "colab": {
          "base_uri": "https://localhost:8080/",
          "height": 281
        },
        "outputId": "8aea288f-17a0-4bca-ac05-8d37323e341e"
      },
      "execution_count": 9,
      "outputs": [
        {
          "output_type": "display_data",
          "data": {
            "text/plain": [
              "<Figure size 432x288 with 1 Axes>"
            ],
            "image/png": "[encoded data removed]"
          },
          "metadata": {
            "needs_background": "light"
          }
        }
      ]
    },
    {
      "cell_type": "code",
      "source": [
        "  #Exploring Binary and Categorical Data   \n",
        "\n",
        "  \n"
      ],
      "metadata": {
        "id": "0lr2E4AjLXup"
      },
      "execution_count": 10,
      "outputs": []
    }
  ],
  "metadata": {
    "colab": {
      "collapsed_sections": [],
      "provenance": [],
      "authorship_tag": "ABX9TyOxwA/DMR9+mQoi1Jy203uS",
      "include_colab_link": true
    },
    "kernelspec": {
      "display_name": "Python 3",
      "name": "python3"
    }
  },
  "nbformat": 4,
  "nbformat_minor": 0
}
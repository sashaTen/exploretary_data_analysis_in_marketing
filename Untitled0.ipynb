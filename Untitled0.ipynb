{
  "nbformat": 4,
  "nbformat_minor": 0,
  "metadata": {
    "colab": {
      "provenance": [],
      "mount_file_id": "1c1IGF0tbO7CPdkoKYvjbGFXZfN_Aptic",
      "authorship_tag": "ABX9TyPp5YhzALOfwElJfycnnnhw",
      "include_colab_link": true
    },
    "kernelspec": {
      "name": "python3",
      "display_name": "Python 3"
    },
    "language_info": {
      "name": "python"
    }
  },
  "cells": [
    {
      "cell_type": "markdown",
      "metadata": {
        "id": "view-in-github",
        "colab_type": "text"
      },
      "source": [
        "<a href=\"https://colab.research.google.com/github/sashaTen/python_for_data-_science-/blob/main/Untitled0.ipynb\" target=\"_parent\"><img src=\"https://colab.research.google.com/assets/colab-badge.svg\" alt=\"Open In Colab\"/></a>"
      ]
    },
    {
      "cell_type": "code",
      "source": [
        "#  https://github.com/shrikant-temburwar/Loan-Prediction-Dataset\n",
        "import   pandas  as   pd\n",
        "import seaborn as sns\n",
        "import numpy as np\n",
        "import   matplotlib.pyplot   as   plt\n",
        "df_test  =   pd.read_csv('https://raw.githubusercontent.com/shrikant-temburwar/Loan-Prediction-Dataset/master/test.csv')\n",
        "df_train=   pd.read_csv('https://raw.githubusercontent.com/shrikant-temburwar/Loan-Prediction-Dataset/master/train.csv')\n",
        "print(df_train.head())\n",
        "print(df_test.head())"
      ],
      "metadata": {
        "colab": {
          "base_uri": "https://localhost:8080/"
        },
        "id": "EX7mtHdyUMo7",
        "outputId": "9740aa30-475c-40ab-96ef-8ca07353174e"
      },
      "execution_count": 111,
      "outputs": [
        {
          "output_type": "stream",
          "name": "stdout",
          "text": [
            "    Loan_ID Gender Married Dependents     Education Self_Employed  \\\n",
            "0  LP001002   Male      No          0      Graduate            No   \n",
            "1  LP001003   Male     Yes          1      Graduate            No   \n",
            "2  LP001005   Male     Yes          0      Graduate           Yes   \n",
            "3  LP001006   Male     Yes          0  Not Graduate            No   \n",
            "4  LP001008   Male      No          0      Graduate            No   \n",
            "\n",
            "   ApplicantIncome  CoapplicantIncome  LoanAmount  Loan_Amount_Term  \\\n",
            "0             5849                0.0         NaN             360.0   \n",
            "1             4583             1508.0       128.0             360.0   \n",
            "2             3000                0.0        66.0             360.0   \n",
            "3             2583             2358.0       120.0             360.0   \n",
            "4             6000                0.0       141.0             360.0   \n",
            "\n",
            "   Credit_History Property_Area Loan_Status  \n",
            "0             1.0         Urban           Y  \n",
            "1             1.0         Rural           N  \n",
            "2             1.0         Urban           Y  \n",
            "3             1.0         Urban           Y  \n",
            "4             1.0         Urban           Y  \n",
            "    Loan_ID Gender Married Dependents     Education Self_Employed  \\\n",
            "0  LP001015   Male     Yes          0      Graduate            No   \n",
            "1  LP001022   Male     Yes          1      Graduate            No   \n",
            "2  LP001031   Male     Yes          2      Graduate            No   \n",
            "3  LP001035   Male     Yes          2      Graduate            No   \n",
            "4  LP001051   Male      No          0  Not Graduate            No   \n",
            "\n",
            "   ApplicantIncome  CoapplicantIncome  LoanAmount  Loan_Amount_Term  \\\n",
            "0             5720                  0       110.0             360.0   \n",
            "1             3076               1500       126.0             360.0   \n",
            "2             5000               1800       208.0             360.0   \n",
            "3             2340               2546       100.0             360.0   \n",
            "4             3276                  0        78.0             360.0   \n",
            "\n",
            "   Credit_History Property_Area  \n",
            "0             1.0         Urban  \n",
            "1             1.0         Urban  \n",
            "2             1.0         Urban  \n",
            "3             NaN         Urban  \n",
            "4             1.0         Urban  \n"
          ]
        }
      ]
    },
    {
      "cell_type": "code",
      "source": [
        "print(df_train.shape)\n",
        "print(df_test.shape)"
      ],
      "metadata": {
        "colab": {
          "base_uri": "https://localhost:8080/"
        },
        "id": "dMeTUsQtVkUN",
        "outputId": "f15c6a62-dcb4-46db-ffbe-ce8d7ec80fa0"
      },
      "execution_count": 112,
      "outputs": [
        {
          "output_type": "stream",
          "name": "stdout",
          "text": [
            "(614, 13)\n",
            "(367, 12)\n"
          ]
        }
      ]
    },
    {
      "cell_type": "code",
      "source": [
        "print(df_train.columns)"
      ],
      "metadata": {
        "colab": {
          "base_uri": "https://localhost:8080/"
        },
        "id": "QX9ldrlweq7v",
        "outputId": "b0006953-9aad-490c-cf85-c09f72696733"
      },
      "execution_count": 113,
      "outputs": [
        {
          "output_type": "stream",
          "name": "stdout",
          "text": [
            "Index(['Loan_ID', 'Gender', 'Married', 'Dependents', 'Education',\n",
            "       'Self_Employed', 'ApplicantIncome', 'CoapplicantIncome', 'LoanAmount',\n",
            "       'Loan_Amount_Term', 'Credit_History', 'Property_Area', 'Loan_Status'],\n",
            "      dtype='object')\n"
          ]
        }
      ]
    },
    {
      "cell_type": "markdown",
      "source": [
        "THE   TARGET  THE   LOAN   STATUS.\n",
        "IF IT IS   CONTINIOUS  THEN   WE  PREDICTION\n",
        "IF  CATEGORUCAL THEN   CLASSIFICATION \n"
      ],
      "metadata": {
        "id": "EsO35O79fODR"
      }
    },
    {
      "cell_type": "code",
      "source": [
        "print(df_train['Loan_Status'].nunique())"
      ],
      "metadata": {
        "colab": {
          "base_uri": "https://localhost:8080/"
        },
        "id": "WZ1EKcsefX6l",
        "outputId": "1bdf4251-ba9e-4251-b396-91d928148cf9"
      },
      "execution_count": 114,
      "outputs": [
        {
          "output_type": "stream",
          "name": "stdout",
          "text": [
            "2\n"
          ]
        }
      ]
    },
    {
      "cell_type": "code",
      "source": [
        "print(df_train['Loan_Status'].unique())\n"
      ],
      "metadata": {
        "colab": {
          "base_uri": "https://localhost:8080/"
        },
        "id": "P6okogXIf5Ns",
        "outputId": "08c8086d-0db8-43a2-89c6-6d55d60a3d85"
      },
      "execution_count": 115,
      "outputs": [
        {
          "output_type": "stream",
          "name": "stdout",
          "text": [
            "['Y' 'N']\n"
          ]
        }
      ]
    },
    {
      "cell_type": "code",
      "source": [
        "print(df_train['Loan_Status'].value_counts())"
      ],
      "metadata": {
        "colab": {
          "base_uri": "https://localhost:8080/"
        },
        "id": "rEuMtjyXgwtd",
        "outputId": "c5b3eb9e-5a0f-4125-ce29-d88bb35e2167"
      },
      "execution_count": 116,
      "outputs": [
        {
          "output_type": "stream",
          "name": "stdout",
          "text": [
            "Y    422\n",
            "N    192\n",
            "Name: Loan_Status, dtype: int64\n"
          ]
        }
      ]
    },
    {
      "cell_type": "code",
      "source": [],
      "metadata": {
        "id": "KgH9hI7YCreU"
      },
      "execution_count": 116,
      "outputs": []
    },
    {
      "cell_type": "markdown",
      "source": [
        "FIRST   WE   WILL  CHECK  THE  LOGISTIC  REGRESSION"
      ],
      "metadata": {
        "id": "JLrU-uIArlgk"
      }
    },
    {
      "cell_type": "code",
      "source": [
        "log_df =   df_train\n",
        "print(log_df.columns)"
      ],
      "metadata": {
        "colab": {
          "base_uri": "https://localhost:8080/"
        },
        "id": "0oV07rvurkXO",
        "outputId": "82d561aa-ed28-4159-ce27-cf1f5c07973a"
      },
      "execution_count": 117,
      "outputs": [
        {
          "output_type": "stream",
          "name": "stdout",
          "text": [
            "Index(['Loan_ID', 'Gender', 'Married', 'Dependents', 'Education',\n",
            "       'Self_Employed', 'ApplicantIncome', 'CoapplicantIncome', 'LoanAmount',\n",
            "       'Loan_Amount_Term', 'Credit_History', 'Property_Area', 'Loan_Status'],\n",
            "      dtype='object')\n"
          ]
        }
      ]
    },
    {
      "cell_type": "markdown",
      "source": [
        "encoding"
      ],
      "metadata": {
        "id": "ffTjBOUez0y_"
      }
    },
    {
      "cell_type": "code",
      "source": [
        "mapping = {'Y': 1, 'N': 0}\n",
        "log_df['Loan_Status'] = log_df['Loan_Status'].map(mapping)\n",
        "\n",
        "print(log_df['Loan_Status'].value_counts())"
      ],
      "metadata": {
        "colab": {
          "base_uri": "https://localhost:8080/"
        },
        "id": "3kMYLY3xz2sI",
        "outputId": "d8943296-c8b5-4697-f892-8b7bc9cf20ac"
      },
      "execution_count": 118,
      "outputs": [
        {
          "output_type": "stream",
          "name": "stdout",
          "text": [
            "1    422\n",
            "0    192\n",
            "Name: Loan_Status, dtype: int64\n"
          ]
        }
      ]
    },
    {
      "cell_type": "markdown",
      "source": [
        "THE   FIRST STEP  IS  TO   CHOOSE   FEATURES  FOR THE  MODEL\n"
      ],
      "metadata": {
        "id": "ZB4CxShiy8DR"
      }
    },
    {
      "cell_type": "code",
      "source": [
        "print(log_df['Loan_ID'].nunique())"
      ],
      "metadata": {
        "colab": {
          "base_uri": "https://localhost:8080/"
        },
        "id": "CoNQm9NywQVv",
        "outputId": "525d15a6-882a-4361-bac6-f6fb4a49a390"
      },
      "execution_count": 119,
      "outputs": [
        {
          "output_type": "stream",
          "name": "stdout",
          "text": [
            "614\n"
          ]
        }
      ]
    },
    {
      "cell_type": "code",
      "source": [
        "print(log_df['Loan_Amount_Term'].nunique())"
      ],
      "metadata": {
        "colab": {
          "base_uri": "https://localhost:8080/"
        },
        "id": "g0r1OkJJCMNu",
        "outputId": "69fb00e2-db7e-4108-bea1-5458390bcf0b"
      },
      "execution_count": 120,
      "outputs": [
        {
          "output_type": "stream",
          "name": "stdout",
          "text": [
            "10\n"
          ]
        }
      ]
    },
    {
      "cell_type": "code",
      "source": [
        "print(log_df['Loan_Amount_Term'].head(15))"
      ],
      "metadata": {
        "colab": {
          "base_uri": "https://localhost:8080/"
        },
        "id": "LpHnbQzYCU_N",
        "outputId": "8a8b4d02-be72-42c3-a229-5f8cb4c08175"
      },
      "execution_count": 121,
      "outputs": [
        {
          "output_type": "stream",
          "name": "stdout",
          "text": [
            "0     360.0\n",
            "1     360.0\n",
            "2     360.0\n",
            "3     360.0\n",
            "4     360.0\n",
            "5     360.0\n",
            "6     360.0\n",
            "7     360.0\n",
            "8     360.0\n",
            "9     360.0\n",
            "10    360.0\n",
            "11    360.0\n",
            "12    360.0\n",
            "13    360.0\n",
            "14    120.0\n",
            "Name: Loan_Amount_Term, dtype: float64\n"
          ]
        }
      ]
    },
    {
      "cell_type": "code",
      "source": [
        "print(log_df['Loan_ID'].head(15))"
      ],
      "metadata": {
        "colab": {
          "base_uri": "https://localhost:8080/"
        },
        "id": "aeaLyM-50y4X",
        "outputId": "b2cfa611-6ee6-434b-9480-f2e7a8d3e3ba"
      },
      "execution_count": 122,
      "outputs": [
        {
          "output_type": "stream",
          "name": "stdout",
          "text": [
            "0     LP001002\n",
            "1     LP001003\n",
            "2     LP001005\n",
            "3     LP001006\n",
            "4     LP001008\n",
            "5     LP001011\n",
            "6     LP001013\n",
            "7     LP001014\n",
            "8     LP001018\n",
            "9     LP001020\n",
            "10    LP001024\n",
            "11    LP001027\n",
            "12    LP001028\n",
            "13    LP001029\n",
            "14    LP001030\n",
            "Name: Loan_ID, dtype: object\n"
          ]
        }
      ]
    },
    {
      "cell_type": "markdown",
      "source": [
        "DROP  COLUMNS  THAT  WE  DONT  NEED"
      ],
      "metadata": {
        "id": "c80_mn7zCv_O"
      }
    },
    {
      "cell_type": "code",
      "source": [
        "log_df =   log_df.drop('Loan_ID'  ,     axis=1)"
      ],
      "metadata": {
        "id": "p2daag9fCzGe"
      },
      "execution_count": 123,
      "outputs": []
    },
    {
      "cell_type": "code",
      "source": [
        "log_df =   log_df.drop('CoapplicantIncome'  ,     axis=1)"
      ],
      "metadata": {
        "id": "ZlElZwGzDPt8"
      },
      "execution_count": 124,
      "outputs": []
    },
    {
      "cell_type": "code",
      "source": [
        "sns.scatterplot(x='Loan_Status', y='ApplicantIncome', data=log_df)\n",
        "plt.show()"
      ],
      "metadata": {
        "colab": {
          "base_uri": "https://localhost:8080/",
          "height": 449
        },
        "id": "Ku8IXoXo4IHe",
        "outputId": "65899cc3-2311-45a8-a3db-3d64a899afec"
      },
      "execution_count": 125,
      "outputs": [
        {
          "output_type": "display_data",
          "data": {
            "text/plain": [
              "<Figure size 640x480 with 1 Axes>"
            ],
            "image/png": "[encoded data removed]"
          },
          "metadata": {}
        }
      ]
    },
    {
      "cell_type": "code",
      "source": [
        "sns.boxplot(x='Loan_Status'  ,    y  =  'ApplicantIncome'   ,  data   =   log_df)\n",
        "plt.show()"
      ],
      "metadata": {
        "colab": {
          "base_uri": "https://localhost:8080/",
          "height": 449
        },
        "id": "E1DWVxzn_XvW",
        "outputId": "74e032a8-a847-4066-f5f4-681d7e5a0303"
      },
      "execution_count": 126,
      "outputs": [
        {
          "output_type": "display_data",
          "data": {
            "text/plain": [
              "<Figure size 640x480 with 1 Axes>"
            ],
            "image/png": "[encoded data removed]"
          },
          "metadata": {}
        }
      ]
    },
    {
      "cell_type": "code",
      "source": [
        "sns.boxplot(x='Loan_Status' ,  y =  'ApplicantIncome' ,   data  =   log_df)\n",
        "plt.show()"
      ],
      "metadata": {
        "colab": {
          "base_uri": "https://localhost:8080/",
          "height": 449
        },
        "id": "rxdv7ve34v5-",
        "outputId": "bc91bcc3-f8e6-455c-c469-046d6c2b3cd8"
      },
      "execution_count": 127,
      "outputs": [
        {
          "output_type": "display_data",
          "data": {
            "text/plain": [
              "<Figure size 640x480 with 1 Axes>"
            ],
            "image/png": "[encoded data removed]"
          },
          "metadata": {}
        }
      ]
    },
    {
      "cell_type": "code",
      "source": [
        "def show_unique_values(df):\n",
        "    number_values = ''\n",
        "    for col in df.columns:\n",
        "        number_values += col + ' : ' + str(df[col].nunique()) + '\\n'\n",
        "    return number_values\n",
        "\n",
        "print(show_unique_values(log_df))\n",
        "\n"
      ],
      "metadata": {
        "colab": {
          "base_uri": "https://localhost:8080/"
        },
        "id": "0AT3sSOBETBC",
        "outputId": "c70e8322-3ab3-4282-aa6b-f38299fbc9a5"
      },
      "execution_count": 128,
      "outputs": [
        {
          "output_type": "stream",
          "name": "stdout",
          "text": [
            "Gender : 2\n",
            "Married : 2\n",
            "Dependents : 4\n",
            "Education : 2\n",
            "Self_Employed : 2\n",
            "ApplicantIncome : 505\n",
            "LoanAmount : 203\n",
            "Loan_Amount_Term : 10\n",
            "Credit_History : 2\n",
            "Property_Area : 3\n",
            "Loan_Status : 2\n",
            "\n"
          ]
        }
      ]
    },
    {
      "cell_type": "code",
      "source": [
        "sns.countplot(x='Dependents', hue='Loan_Status', data=log_df)\n",
        "plt.show()"
      ],
      "metadata": {
        "colab": {
          "base_uri": "https://localhost:8080/",
          "height": 449
        },
        "id": "7UzBgTQpGvGX",
        "outputId": "b16025fa-ed55-462c-b299-48415f63e8db"
      },
      "execution_count": 129,
      "outputs": [
        {
          "output_type": "display_data",
          "data": {
            "text/plain": [
              "<Figure size 640x480 with 1 Axes>"
            ],
            "image/png": "[encoded data removed]"
          },
          "metadata": {}
        }
      ]
    },
    {
      "cell_type": "code",
      "source": [
        "print(log_df['Dependents'].head(15))"
      ],
      "metadata": {
        "colab": {
          "base_uri": "https://localhost:8080/"
        },
        "id": "LmQCt42IHB6I",
        "outputId": "a316b201-e58f-4416-e817-dfc5e5751e52"
      },
      "execution_count": 130,
      "outputs": [
        {
          "output_type": "stream",
          "name": "stdout",
          "text": [
            "0      0\n",
            "1      1\n",
            "2      0\n",
            "3      0\n",
            "4      0\n",
            "5      2\n",
            "6      0\n",
            "7     3+\n",
            "8      2\n",
            "9      1\n",
            "10     2\n",
            "11     2\n",
            "12     2\n",
            "13     0\n",
            "14     2\n",
            "Name: Dependents, dtype: object\n"
          ]
        }
      ]
    },
    {
      "cell_type": "code",
      "source": [
        "sns.countplot(x='Credit_History', hue='Loan_Status', data=log_df)\n",
        "plt.show()"
      ],
      "metadata": {
        "colab": {
          "base_uri": "https://localhost:8080/",
          "height": 450
        },
        "id": "ipLhEKDRHYz0",
        "outputId": "0a0efeb1-5ccb-453b-e12c-bcbf6b066fbb"
      },
      "execution_count": 131,
      "outputs": [
        {
          "output_type": "display_data",
          "data": {
            "text/plain": [
              "<Figure size 640x480 with 1 Axes>"
            ],
            "image/png": "[encoded data removed]"
          },
          "metadata": {}
        }
      ]
    },
    {
      "cell_type": "code",
      "source": [
        "print(log_df['Property_Area'].value_counts())"
      ],
      "metadata": {
        "colab": {
          "base_uri": "https://localhost:8080/"
        },
        "id": "kwDBvYRdH6n4",
        "outputId": "257c2989-c663-47a0-bf4d-725a22f9087a"
      },
      "execution_count": 132,
      "outputs": [
        {
          "output_type": "stream",
          "name": "stdout",
          "text": [
            "Semiurban    233\n",
            "Urban        202\n",
            "Rural        179\n",
            "Name: Property_Area, dtype: int64\n"
          ]
        }
      ]
    },
    {
      "cell_type": "code",
      "source": [
        "from sklearn.preprocessing import LabelEncoder\n",
        "\n",
        "def  binary_features_mapping(df  ,  list):\n",
        "  label_encoder = LabelEncoder()\n",
        "  for  col  in   list:\n",
        "    df[col] = label_encoder.fit_transform(df[col])\n",
        "list  = ['Married','Education','Self_Employed' ,'Property_Area' ,   'Gender' ]\n",
        "print(binary_features_mapping(log_df , list))\n",
        "\n",
        "\n",
        "print(log_df.head())\n"
      ],
      "metadata": {
        "colab": {
          "base_uri": "https://localhost:8080/"
        },
        "id": "wJYfWcJ1IV6J",
        "outputId": "b2b96dd0-6cb7-43a7-d2e6-ba49cab76070"
      },
      "execution_count": 133,
      "outputs": [
        {
          "output_type": "stream",
          "name": "stdout",
          "text": [
            "None\n",
            "   Gender  Married Dependents  Education  Self_Employed  ApplicantIncome  \\\n",
            "0       1        0          0          0              0             5849   \n",
            "1       1        1          1          0              0             4583   \n",
            "2       1        1          0          0              1             3000   \n",
            "3       1        1          0          1              0             2583   \n",
            "4       1        0          0          0              0             6000   \n",
            "\n",
            "   LoanAmount  Loan_Amount_Term  Credit_History  Property_Area  Loan_Status  \n",
            "0         NaN             360.0             1.0              2            1  \n",
            "1       128.0             360.0             1.0              0            0  \n",
            "2        66.0             360.0             1.0              2            1  \n",
            "3       120.0             360.0             1.0              2            1  \n",
            "4       141.0             360.0             1.0              2            1  \n"
          ]
        }
      ]
    },
    {
      "cell_type": "markdown",
      "source": [
        "NOW WILL  TRY TO  SPOT   OUTLIERS "
      ],
      "metadata": {
        "id": "KO1FFQ75rBDK"
      }
    },
    {
      "cell_type": "code",
      "source": [
        "print(log_df['ApplicantIncome'].max())\n",
        "print(log_df['ApplicantIncome'].min())\n",
        "print(log_df['ApplicantIncome'].mean())\n",
        "print(log_df['ApplicantIncome'].median())\n",
        "sns.histplot(log_df['ApplicantIncome'])\n",
        "\n",
        "# Show the plot\n",
        "plt.show()"
      ],
      "metadata": {
        "colab": {
          "base_uri": "https://localhost:8080/",
          "height": 522
        },
        "id": "L3XSz2tsqx8L",
        "outputId": "825c744c-c992-42a1-bf82-2f37bddc53f1"
      },
      "execution_count": 134,
      "outputs": [
        {
          "output_type": "stream",
          "name": "stdout",
          "text": [
            "81000\n",
            "150\n",
            "5403.459283387622\n",
            "3812.5\n"
          ]
        },
        {
          "output_type": "display_data",
          "data": {
            "text/plain": [
              "<Figure size 640x480 with 1 Axes>"
            ],
            "image/png": "[encoded data removed]"
          },
          "metadata": {}
        }
      ]
    },
    {
      "cell_type": "code",
      "source": [
        "print(log_df['ApplicantIncome'].mean() +  log_df['ApplicantIncome'].std()*3)"
      ],
      "metadata": {
        "colab": {
          "base_uri": "https://localhost:8080/"
        },
        "id": "egL7MrfWsAY6",
        "outputId": "42db645c-8ade-4244-892e-dfdad6f99ff3"
      },
      "execution_count": 135,
      "outputs": [
        {
          "output_type": "stream",
          "name": "stdout",
          "text": [
            "23730.584303549156\n"
          ]
        }
      ]
    },
    {
      "cell_type": "code",
      "source": [
        "log_df['LogIncome'] = np.log(log_df['ApplicantIncome'])"
      ],
      "metadata": {
        "id": "poBpKdNRuFzk"
      },
      "execution_count": 136,
      "outputs": []
    },
    {
      "cell_type": "code",
      "source": [
        "print(log_df['LogIncome'].describe())"
      ],
      "metadata": {
        "colab": {
          "base_uri": "https://localhost:8080/"
        },
        "id": "0iDO9979uMFJ",
        "outputId": "56f18ad8-231c-45bc-96fa-a0ed9a1773b6"
      },
      "execution_count": 137,
      "outputs": [
        {
          "output_type": "stream",
          "name": "stdout",
          "text": [
            "count    614.000000\n",
            "mean       8.341213\n",
            "std        0.645263\n",
            "min        5.010635\n",
            "25%        7.964677\n",
            "50%        8.246040\n",
            "75%        8.664750\n",
            "max       11.302204\n",
            "Name: LogIncome, dtype: float64\n"
          ]
        }
      ]
    },
    {
      "cell_type": "code",
      "source": [
        "sns.histplot(log_df['LogIncome'])\n",
        "\n",
        "# Show the plot\n",
        "plt.show()"
      ],
      "metadata": {
        "colab": {
          "base_uri": "https://localhost:8080/",
          "height": 449
        },
        "id": "ZvundOz0ulch",
        "outputId": "4ed2be86-e2f8-438b-aaa3-73d046549353"
      },
      "execution_count": 138,
      "outputs": [
        {
          "output_type": "display_data",
          "data": {
            "text/plain": [
              "<Figure size 640x480 with 1 Axes>"
            ],
            "image/png": "[encoded data removed]"
          },
          "metadata": {}
        }
      ]
    },
    {
      "cell_type": "code",
      "source": [
        "log_df =   log_df.drop('ApplicantIncome'  ,     axis=1)\n",
        "print(log_df.head())\n"
      ],
      "metadata": {
        "colab": {
          "base_uri": "https://localhost:8080/"
        },
        "id": "6RtibkC1vEVD",
        "outputId": "36ab69b8-3e31-4853-e577-44e0bdfc4437"
      },
      "execution_count": 139,
      "outputs": [
        {
          "output_type": "stream",
          "name": "stdout",
          "text": [
            "   Gender  Married Dependents  Education  Self_Employed  LoanAmount  \\\n",
            "0       1        0          0          0              0         NaN   \n",
            "1       1        1          1          0              0       128.0   \n",
            "2       1        1          0          0              1        66.0   \n",
            "3       1        1          0          1              0       120.0   \n",
            "4       1        0          0          0              0       141.0   \n",
            "\n",
            "   Loan_Amount_Term  Credit_History  Property_Area  Loan_Status  LogIncome  \n",
            "0             360.0             1.0              2            1   8.674026  \n",
            "1             360.0             1.0              0            0   8.430109  \n",
            "2             360.0             1.0              2            1   8.006368  \n",
            "3             360.0             1.0              2            1   7.856707  \n",
            "4             360.0             1.0              2            1   8.699515  \n"
          ]
        }
      ]
    },
    {
      "cell_type": "code",
      "source": [
        "print(log_df.isnull().sum())"
      ],
      "metadata": {
        "colab": {
          "base_uri": "https://localhost:8080/"
        },
        "id": "K9YOTp4lv8AJ",
        "outputId": "5c115029-fbb8-4a6e-e22b-a6c040ceee5d"
      },
      "execution_count": 140,
      "outputs": [
        {
          "output_type": "stream",
          "name": "stdout",
          "text": [
            "Gender               0\n",
            "Married              0\n",
            "Dependents          15\n",
            "Education            0\n",
            "Self_Employed        0\n",
            "LoanAmount          22\n",
            "Loan_Amount_Term    14\n",
            "Credit_History      50\n",
            "Property_Area        0\n",
            "Loan_Status          0\n",
            "LogIncome            0\n",
            "dtype: int64\n"
          ]
        }
      ]
    },
    {
      "cell_type": "code",
      "source": [
        "log_df =  log_df.dropna()\n",
        "print(log_df.isnull().sum())"
      ],
      "metadata": {
        "colab": {
          "base_uri": "https://localhost:8080/"
        },
        "id": "L7f0aVV7x4pd",
        "outputId": "891322cf-6610-4039-ef71-e41988d5c14c"
      },
      "execution_count": 141,
      "outputs": [
        {
          "output_type": "stream",
          "name": "stdout",
          "text": [
            "Gender              0\n",
            "Married             0\n",
            "Dependents          0\n",
            "Education           0\n",
            "Self_Employed       0\n",
            "LoanAmount          0\n",
            "Loan_Amount_Term    0\n",
            "Credit_History      0\n",
            "Property_Area       0\n",
            "Loan_Status         0\n",
            "LogIncome           0\n",
            "dtype: int64\n"
          ]
        }
      ]
    },
    {
      "cell_type": "code",
      "source": [
        "print(log_df.info())"
      ],
      "metadata": {
        "colab": {
          "base_uri": "https://localhost:8080/"
        },
        "id": "0qa5hH-SdgJ5",
        "outputId": "b4d8afa0-93c1-48b9-c863-5e71b13d969e"
      },
      "execution_count": 142,
      "outputs": [
        {
          "output_type": "stream",
          "name": "stdout",
          "text": [
            "<class 'pandas.core.frame.DataFrame'>\n",
            "Int64Index: 517 entries, 1 to 613\n",
            "Data columns (total 11 columns):\n",
            " #   Column            Non-Null Count  Dtype  \n",
            "---  ------            --------------  -----  \n",
            " 0   Gender            517 non-null    int64  \n",
            " 1   Married           517 non-null    int64  \n",
            " 2   Dependents        517 non-null    object \n",
            " 3   Education         517 non-null    int64  \n",
            " 4   Self_Employed     517 non-null    int64  \n",
            " 5   LoanAmount        517 non-null    float64\n",
            " 6   Loan_Amount_Term  517 non-null    float64\n",
            " 7   Credit_History    517 non-null    float64\n",
            " 8   Property_Area     517 non-null    int64  \n",
            " 9   Loan_Status       517 non-null    int64  \n",
            " 10  LogIncome         517 non-null    float64\n",
            "dtypes: float64(4), int64(6), object(1)\n",
            "memory usage: 48.5+ KB\n",
            "None\n"
          ]
        }
      ]
    },
    {
      "cell_type": "code",
      "source": [
        "log_df['Dependents']=log_df['Dependents'].str.replace('+', '')"
      ],
      "metadata": {
        "colab": {
          "base_uri": "https://localhost:8080/"
        },
        "id": "hkbynuhedjf5",
        "outputId": "a88ebd1e-39d2-4e26-c2e3-919a9c2d7dec"
      },
      "execution_count": 143,
      "outputs": [
        {
          "output_type": "stream",
          "name": "stderr",
          "text": [
            "<ipython-input-143-e2db546c0a32>:1: FutureWarning: The default value of regex will change from True to False in a future version. In addition, single character regular expressions will *not* be treated as literal strings when regex=True.\n",
            "  log_df['Dependents']=log_df['Dependents'].str.replace('+', '')\n"
          ]
        }
      ]
    },
    {
      "cell_type": "code",
      "source": [
        "import pandas as pd\n",
        "from sklearn.model_selection import train_test_split\n",
        "from sklearn.linear_model import LogisticRegression\n",
        "from sklearn.metrics import accuracy_score\n",
        "\n",
        "# Load the dataset\n",
        "\n",
        "\n",
        "# Preprocess the data\n",
        "# ... (Perform data cleaning, feature engineering, etc.)\n",
        "\n",
        "# Split the data into training and testing sets\n",
        "X = log_df.drop('Loan_Status', axis=1)\n",
        "y = log_df['Loan_Status']\n",
        "X_train, X_test, y_train, y_test = train_test_split(X, y, test_size=0.2, random_state=42)\n",
        "\n",
        "# Create an instance of the Logistic Regression model\n",
        "model = LogisticRegression()\n",
        "\n",
        "# Train the model\n",
        "model.fit(X_train, y_train)\n",
        "\n",
        "# Make predictions on the test set\n",
        "y_pred = model.predict(X_test)\n",
        "\n",
        "# Evaluate the model\n",
        "accuracy = accuracy_score(y_test, y_pred)\n",
        "print(\"Accuracy:\", accuracy)\n"
      ],
      "metadata": {
        "colab": {
          "base_uri": "https://localhost:8080/"
        },
        "id": "41M9BP6MpDUx",
        "outputId": "428516c0-f814-4d9d-d3d4-90350770d85a"
      },
      "execution_count": 144,
      "outputs": [
        {
          "output_type": "stream",
          "name": "stdout",
          "text": [
            "Accuracy: 0.8557692307692307\n"
          ]
        },
        {
          "output_type": "stream",
          "name": "stderr",
          "text": [
            "/usr/local/lib/python3.10/dist-packages/sklearn/linear_model/_logistic.py:458: ConvergenceWarning: lbfgs failed to converge (status=1):\n",
            "STOP: TOTAL NO. of ITERATIONS REACHED LIMIT.\n",
            "\n",
            "Increase the number of iterations (max_iter) or scale the data as shown in:\n",
            "    https://scikit-learn.org/stable/modules/preprocessing.html\n",
            "Please also refer to the documentation for alternative solver options:\n",
            "    https://scikit-learn.org/stable/modules/linear_model.html#logistic-regression\n",
            "  n_iter_i = _check_optimize_result(\n"
          ]
        }
      ]
    }
  ]
}
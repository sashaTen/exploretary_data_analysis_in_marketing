{
  "cells": [
    {
      "cell_type": "markdown",
      "metadata": {
        "id": "view-in-github",
        "colab_type": "text"
      },
      "source": [
        "<a href=\"https://colab.research.google.com/github/sashaTen/python_for_data-_science-/blob/main/Untitled0.ipynb\" target=\"_parent\"><img src=\"https://colab.research.google.com/assets/colab-badge.svg\" alt=\"Open In Colab\"/></a>"
      ]
    },
    {
      "cell_type": "code",
      "source": [
        "#    stats   :\n",
        "# #The typical steps are:\n",
        "# Gathering data\n",
        "# Describing and visualizing data\n",
        "# Making conclusions\n",
        "\n",
        "# If the members of the sample have similar characteristics (like age, profession, etc.)\n",
        "#  to the whole population of France, we say that the sample is representative of the population.\n",
        "\n",
        "# A good representative sample is crucial for statistical methods.\n",
        "# Probability theory is used to calculate the certainty that those statistics also apply to the population.\n",
        "\n",
        "# When using a sample, there will always be some uncertainty about what the data looks like for the population.\n",
        "\n",
        "# Uncertainty is often expressed as confidence intervals.\n",
        "\n",
        "# Hypothesis testing is a another way of checking if a statement about a population is true. More precisely, it checks how likely it is that a hypothesis is true is based on the sample data.\n",
        "\n",
        "# Some examples of statements or questions that can be checked with hypothesis testing:\n",
        "\n",
        "# People in the Netherlands taller than people in Denmark\n",
        "# Do people prefer Pepsi or Coke?\n",
        "# # Does a new medicine cure a disease?\n",
        "# Causal Inference\n",
        "# Causal inference is used to investigate if something causes another thing.\n",
        "\n",
        "# For example: Does rain make plants grow?\n",
        "\n",
        "# If we think two things are related we can investigate to see if they correlate. Statistics can be used to find out how strong this relation is.\n",
        "# The main types of statistical studies are observational and experimental studies.\n",
        "\n",
        "# There are two main types of data: Qualitative (or 'categorical') and quantitative (or 'numerical').\n",
        "#  These main types also have different sub-types depending on their measurement level.\n",
        "# qualitive  : 1   Nominal (brand ,  color   ,  country) 2  ordinal(militry  rank ,   grade)\n",
        "# quantitive  :   1   interval  (year   , temperrature)  2  ratio (money ,  age  , time)\n",
        "\n",
        "\n"
      ],
      "metadata": {
        "id": "uVRQjf8UWBcy"
      },
      "execution_count": null,
      "outputs": []
    }
  ],
  "metadata": {
    "colab": {
      "provenance": [],
      "authorship_tag": "ABX9TyOmAcjJuPYiq9iFX3A/3dSU",
      "include_colab_link": true
    },
    "kernelspec": {
      "display_name": "Python 3",
      "name": "python3"
    }
  },
  "nbformat": 4,
  "nbformat_minor": 0
}
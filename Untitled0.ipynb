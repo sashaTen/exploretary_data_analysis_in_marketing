{
  "cells": [
    {
      "cell_type": "markdown",
      "metadata": {
        "id": "view-in-github",
        "colab_type": "text"
      },
      "source": [
        "<a href=\"https://colab.research.google.com/github/sashaTen/exploretary_data_analysis_in_marketing/blob/main/Untitled0.ipynb\" target=\"_parent\"><img src=\"https://colab.research.google.com/assets/colab-badge.svg\" alt=\"Open In Colab\"/></a>"
      ]
    },
    {
      "cell_type": "code",
      "source": [
        "%matplotlib inline\n",
        "\n",
        "from pathlib import Path\n",
        "\n",
        "import pandas as pd\n",
        "import numpy as np\n",
        "from scipy.stats import trim_mean\n",
        "from statsmodels import robust\n",
        "\n",
        "\n",
        "import seaborn as sns\n",
        "import matplotlib.pylab as plt\n",
        "\n",
        "\n",
        "# Table 1-2\n",
        "state = pd.read_csv(\"https://raw.githubusercontent.com/gedeck/practical-statistics-for-data-scientists/master/data/state.csv\")\n",
        "#print(state.head(8))\n",
        "#mean, trimmed mean, and median \n",
        "population  =    state[\"Population\"]\n",
        "#print(population.mean())\n",
        "#6162876.3\n",
        "meanPOPULATION  =    population.mean()\n",
        "medianPOPULATION   =    population.median()\n",
        "trim_meanPOPULATION    =trim_mean(state['Population'], 0.1)\n",
        "print(   \"   mean:\" ,    meanPOPULATION    ,   \"       median:\"  ,    medianPOPULATION ,  \"        trim   mean:\"   ,   trim_meanPOPULATION)"
      ],
      "metadata": {
        "colab": {
          "base_uri": "https://localhost:8080/"
        },
        "id": "Ch4jW3V432Y3",
        "outputId": "4174d5c3-4623-4227-f25d-96cfa9edd55a"
      },
      "execution_count": 2,
      "outputs": [
        {
          "output_type": "stream",
          "name": "stdout",
          "text": [
            "   mean: 6162876.3        median: 4436369.5         trim   mean: 4783697.125\n"
          ]
        }
      ]
    },
    {
      "cell_type": "code",
      "source": [
        "stdPOPULATION  =  population.std()\n",
        "print(stdPOPULATION)\n"
      ],
      "metadata": {
        "colab": {
          "base_uri": "https://localhost:8080/"
        },
        "id": "HeWw8btc7E98",
        "outputId": "dc2c63a7-6e1f-47d3-b2cb-2df835f94c6c"
      },
      "execution_count": 3,
      "outputs": [
        {
          "output_type": "stream",
          "name": "stdout",
          "text": [
            "6848235.347401142\n"
          ]
        }
      ]
    },
    {
      "cell_type": "code",
      "source": [
        "print(population.quantile(0.75)  -    population.quantile(0.25)  ,   '  '  ,  stdPOPULATION )"
      ],
      "metadata": {
        "colab": {
          "base_uri": "https://localhost:8080/"
        },
        "id": "le_oge0Q7GhH",
        "outputId": "0015c090-5621-410f-b167-470c191e14ad"
      },
      "execution_count": 4,
      "outputs": [
        {
          "output_type": "stream",
          "name": "stdout",
          "text": [
            "4847308.0    6848235.347401142\n"
          ]
        }
      ]
    },
    {
      "cell_type": "code",
      "source": [
        "print(state[\"Murder.Rate\"].mean() ,   \"  and trim   mean \",     trim_mean(state[\"Murder.Rate\"] ,   0.1))"
      ],
      "metadata": {
        "id": "FKjbEcfyCATI",
        "colab": {
          "base_uri": "https://localhost:8080/"
        },
        "outputId": "a42b4724-1aa4-4ea8-c75a-22f159617b16"
      },
      "execution_count": 5,
      "outputs": [
        {
          "output_type": "stream",
          "name": "stdout",
          "text": [
            "4.066   and trim   mean  3.9450000000000003\n"
          ]
        }
      ]
    },
    {
      "cell_type": "code",
      "source": [
        "binnedPOPULATION    =   pd.cut(population,  10)\n",
        "print(binnedPOPULATION.value_counts())"
      ],
      "metadata": {
        "colab": {
          "base_uri": "https://localhost:8080/"
        },
        "id": "VIGcDfabZzo3",
        "outputId": "f76ab0b5-a9a9-42e6-afa3-13c6afbddf6f"
      },
      "execution_count": 6,
      "outputs": [
        {
          "output_type": "stream",
          "name": "stdout",
          "text": [
            "(526935.67, 4232659.0]      24\n",
            "(4232659.0, 7901692.0]      14\n",
            "(7901692.0, 11570725.0]      6\n",
            "(11570725.0, 15239758.0]     2\n",
            "(15239758.0, 18908791.0]     1\n",
            "(18908791.0, 22577824.0]     1\n",
            "(22577824.0, 26246857.0]     1\n",
            "(33584923.0, 37253956.0]     1\n",
            "(26246857.0, 29915890.0]     0\n",
            "(29915890.0, 33584923.0]     0\n",
            "Name: Population, dtype: int64\n"
          ]
        }
      ]
    },
    {
      "cell_type": "code",
      "source": [
        "percentiles =   [0.5,0.25,0.5,0.75,0.95]\n",
        "for x in range(len(percentiles)):\n",
        "  print(   percentiles[x]*10,\"% : \",     state[\"Murder.Rate\"].quantile(percentiles[x]))\n",
        "\n",
        "\n"
      ],
      "metadata": {
        "colab": {
          "base_uri": "https://localhost:8080/"
        },
        "id": "8W_C9dL2BqV-",
        "outputId": "585ab8ec-7a82-49ea-9a3e-1daf6f3178b7"
      },
      "execution_count": 14,
      "outputs": [
        {
          "output_type": "stream",
          "name": "stdout",
          "text": [
            "5.0 % :  4.0\n",
            "2.5 % :  2.425\n",
            "5.0 % :  4.0\n",
            "7.5 % :  5.55\n",
            "9.0 % :  6.01\n"
          ]
        }
      ]
    },
    {
      "cell_type": "code",
      "source": [
        "import numpy as np\n",
        "###   JUST    TRIED  TO  UNDERSTAND THE   HISTOGRAMM\n",
        "\n",
        "list = []\n",
        "\n",
        "for x  in  range(10):\n",
        "  list.append(np.random.randint(0, 100))\n",
        "\n",
        "#print(list)\n",
        "df =    pd.DataFrame(list)\n",
        "#df.hist()\n",
        "list2 =  []\n",
        "for    i   in   range(70):\n",
        "   list2.append(1)\n",
        "df2 =     pd.DataFrame(list2)\n",
        "concated  =   [df  ,   df2]\n",
        "unitedDF =     pd.concat(concated)\n",
        "unitedDF.hist()\n",
        "\n"
      ],
      "metadata": {
        "colab": {
          "base_uri": "https://localhost:8080/",
          "height": 316
        },
        "id": "s8nRaprPFMtD",
        "outputId": "eb4279eb-93a5-423a-a647-eaadfb202fe4"
      },
      "execution_count": 44,
      "outputs": [
        {
          "output_type": "execute_result",
          "data": {
            "text/plain": [
              "array([[<matplotlib.axes._subplots.AxesSubplot object at 0x7f0c0895cd90>]],\n",
              "      dtype=object)"
            ]
          },
          "metadata": {},
          "execution_count": 44
        },
        {
          "output_type": "display_data",
          "data": {
            "text/plain": [
              "<Figure size 432x288 with 1 Axes>"
            ],
            "image/png": "[encoded data removed]"
          },
          "metadata": {
            "needs_background": "light"
          }
        }
      ]
    },
    {
      "cell_type": "code",
      "source": [
        "plt.hist(population,  bins=10)\n",
        "plt.show()\n"
      ],
      "metadata": {
        "id": "aChJ5kzaJrDK"
      },
      "execution_count": null,
      "outputs": []
    },
    {
      "cell_type": "code",
      "source": [
        "  #Exploring Binary and Categorical Data   \n",
        "\n",
        "  \n"
      ],
      "metadata": {
        "id": "0lr2E4AjLXup"
      },
      "execution_count": null,
      "outputs": []
    }
  ],
  "metadata": {
    "colab": {
      "collapsed_sections": [],
      "provenance": [],
      "authorship_tag": "ABX9TyOxwA/DMR9+mQoi1Jy203uS",
      "include_colab_link": true
    },
    "kernelspec": {
      "display_name": "Python 3",
      "name": "python3"
    }
  },
  "nbformat": 4,
  "nbformat_minor": 0
}
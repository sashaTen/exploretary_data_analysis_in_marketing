{
  "nbformat": 4,
  "nbformat_minor": 0,
  "metadata": {
    "colab": {
      "provenance": [],
      "mount_file_id": "1c1IGF0tbO7CPdkoKYvjbGFXZfN_Aptic",
      "authorship_tag": "ABX9TyPJvwZ2q+NiSZC2bPOiGEX8",
      "include_colab_link": true
    },
    "kernelspec": {
      "name": "python3",
      "display_name": "Python 3"
    },
    "language_info": {
      "name": "python"
    }
  },
  "cells": [
    {
      "cell_type": "markdown",
      "metadata": {
        "id": "view-in-github",
        "colab_type": "text"
      },
      "source": [
        "<a href=\"https://colab.research.google.com/github/sashaTen/python_for_data-_science-/blob/main/Untitled0.ipynb\" target=\"_parent\"><img src=\"https://colab.research.google.com/assets/colab-badge.svg\" alt=\"Open In Colab\"/></a>"
      ]
    },
    {
      "cell_type": "code",
      "source": [
        "import matplotlib.pyplot as plt\n",
        "import   pandas  as  pd \n",
        "import seaborn as sns\n",
        "import   numpy as np\n",
        "from sklearn.preprocessing import StandardScaler\n",
        "from imblearn.over_sampling   import  RandomOverSampler\n",
        "from sklearn.neighbors import KNeighborsClassifier\n",
        "from sklearn.naive_bayes import GaussianNB\n",
        "from sklearn.linear_model import LogisticRegression\n",
        "from sklearn.svm import SVC\n",
        "df_application=    pd.read_csv('https://raw.githubusercontent.com/semasuka/Credit-card-approval-prediction-classification/main/datasets/application_record.csv')\n",
        "df_credit =   pd.read_csv('https://raw.githubusercontent.com/semasuka/Credit-card-approval-prediction-classification/main/datasets/credit_record.csv')\n",
        "# test_df =  pd.read_csv('https://raw.githubusercontent.com/semasuka/Credit-card-approval-prediction-classification/main/datasets/test.csv')\n",
        "# train_df  =pd.read_csv('https://raw.githubusercontent.com/semasuka/Credit-card-approval-prediction-classification/main/datasets/train.csv')\n",
        "# print( len(train_df.columns ))\n",
        "# print(test_df['Is high risk'].value_counts())\n",
        "#https://github.com/semasuka/Credit-card-approval-prediction-classification\n"
      ],
      "metadata": {
        "id": "xfvoI_WZoWo7"
      },
      "execution_count": 46,
      "outputs": []
    },
    {
      "cell_type": "markdown",
      "source": [
        "Build a machine learning model to predict if an applicant is 'good' or 'bad' client, different from other tasks, the definition of 'good' or 'bad' is not given. You should use some techique, such as vintage analysis to construct you label. Also, unbalance data problem is a big problem in this task."
      ],
      "metadata": {
        "id": "Q4EgnzHULfvM"
      }
    },
    {
      "cell_type": "code",
      "source": [
        "df_credit.head(5)"
      ],
      "metadata": {
        "colab": {
          "base_uri": "https://localhost:8080/",
          "height": 206
        },
        "id": "vOKX5uh6Hb0P",
        "outputId": "169ecdcc-6e21-4e02-9a24-3c668e4f522e"
      },
      "execution_count": 47,
      "outputs": [
        {
          "output_type": "execute_result",
          "data": {
            "text/plain": [
              "        ID  MONTHS_BALANCE STATUS\n",
              "0  5001711               0      X\n",
              "1  5001711              -1      0\n",
              "2  5001711              -2      0\n",
              "3  5001711              -3      0\n",
              "4  5001712               0      C"
            ],
            "text/html": [
              "\n",
              "  <div id=\"df-648b5fc1-9d2d-4b6d-a8bc-187126c8d704\">\n",
              "    <div class=\"colab-df-container\">\n",
              "      <div>\n",
              "<style scoped>\n",
              "    .dataframe tbody tr th:only-of-type {\n",
              "        vertical-align: middle;\n",
              "    }\n",
              "\n",
              "    .dataframe tbody tr th {\n",
              "        vertical-align: top;\n",
              "    }\n",
              "\n",
              "    .dataframe thead th {\n",
              "        text-align: right;\n",
              "    }\n",
              "</style>\n",
              "<table border=\"1\" class=\"dataframe\">\n",
              "  <thead>\n",
              "    <tr style=\"text-align: right;\">\n",
              "      <th></th>\n",
              "      <th>ID</th>\n",
              "      <th>MONTHS_BALANCE</th>\n",
              "      <th>STATUS</th>\n",
              "    </tr>\n",
              "  </thead>\n",
              "  <tbody>\n",
              "    <tr>\n",
              "      <th>0</th>\n",
              "      <td>5001711</td>\n",
              "      <td>0</td>\n",
              "      <td>X</td>\n",
              "    </tr>\n",
              "    <tr>\n",
              "      <th>1</th>\n",
              "      <td>5001711</td>\n",
              "      <td>-1</td>\n",
              "      <td>0</td>\n",
              "    </tr>\n",
              "    <tr>\n",
              "      <th>2</th>\n",
              "      <td>5001711</td>\n",
              "      <td>-2</td>\n",
              "      <td>0</td>\n",
              "    </tr>\n",
              "    <tr>\n",
              "      <th>3</th>\n",
              "      <td>5001711</td>\n",
              "      <td>-3</td>\n",
              "      <td>0</td>\n",
              "    </tr>\n",
              "    <tr>\n",
              "      <th>4</th>\n",
              "      <td>5001712</td>\n",
              "      <td>0</td>\n",
              "      <td>C</td>\n",
              "    </tr>\n",
              "  </tbody>\n",
              "</table>\n",
              "</div>\n",
              "      <button class=\"colab-df-convert\" onclick=\"convertToInteractive('df-648b5fc1-9d2d-4b6d-a8bc-187126c8d704')\"\n",
              "              title=\"Convert this dataframe to an interactive table.\"\n",
              "              style=\"display:none;\">\n",
              "        \n",
              "  <svg xmlns=\"http://www.w3.org/2000/svg\" height=\"24px\"viewBox=\"0 0 24 24\"\n",
              "       width=\"24px\">\n",
              "    <path d=\"M0 0h24v24H0V0z\" fill=\"none\"/>\n",
              "    <path d=\"M18.56 5.44l.94 2.06.94-2.06 2.06-.94-2.06-.94-.94-2.06-.94 2.06-2.06.94zm-11 1L8.5 8.5l.94-2.06 2.06-.94-2.06-.94L8.5 2.5l-.94 2.06-2.06.94zm10 10l.94 2.06.94-2.06 2.06-.94-2.06-.94-.94-2.06-.94 2.06-2.06.94z\"/><path d=\"M17.41 7.96l-1.37-1.37c-.4-.4-.92-.59-1.43-.59-.52 0-1.04.2-1.43.59L10.3 9.45l-7.72 7.72c-.78.78-.78 2.05 0 2.83L4 21.41c.39.39.9.59 1.41.59.51 0 1.02-.2 1.41-.59l7.78-7.78 2.81-2.81c.8-.78.8-2.07 0-2.86zM5.41 20L4 18.59l7.72-7.72 1.47 1.35L5.41 20z\"/>\n",
              "  </svg>\n",
              "      </button>\n",
              "      \n",
              "  <style>\n",
              "    .colab-df-container {\n",
              "      display:flex;\n",
              "      flex-wrap:wrap;\n",
              "      gap: 12px;\n",
              "    }\n",
              "\n",
              "    .colab-df-convert {\n",
              "      background-color: #E8F0FE;\n",
              "      border: none;\n",
              "      border-radius: 50%;\n",
              "      cursor: pointer;\n",
              "      display: none;\n",
              "      fill: #1967D2;\n",
              "      height: 32px;\n",
              "      padding: 0 0 0 0;\n",
              "      width: 32px;\n",
              "    }\n",
              "\n",
              "    .colab-df-convert:hover {\n",
              "      background-color: #E2EBFA;\n",
              "      box-shadow: 0px 1px 2px rgba(60, 64, 67, 0.3), 0px 1px 3px 1px rgba(60, 64, 67, 0.15);\n",
              "      fill: #174EA6;\n",
              "    }\n",
              "\n",
              "    [theme=dark] .colab-df-convert {\n",
              "      background-color: #3B4455;\n",
              "      fill: #D2E3FC;\n",
              "    }\n",
              "\n",
              "    [theme=dark] .colab-df-convert:hover {\n",
              "      background-color: #434B5C;\n",
              "      box-shadow: 0px 1px 3px 1px rgba(0, 0, 0, 0.15);\n",
              "      filter: drop-shadow(0px 1px 2px rgba(0, 0, 0, 0.3));\n",
              "      fill: #FFFFFF;\n",
              "    }\n",
              "  </style>\n",
              "\n",
              "      <script>\n",
              "        const buttonEl =\n",
              "          document.querySelector('#df-648b5fc1-9d2d-4b6d-a8bc-187126c8d704 button.colab-df-convert');\n",
              "        buttonEl.style.display =\n",
              "          google.colab.kernel.accessAllowed ? 'block' : 'none';\n",
              "\n",
              "        async function convertToInteractive(key) {\n",
              "          const element = document.querySelector('#df-648b5fc1-9d2d-4b6d-a8bc-187126c8d704');\n",
              "          const dataTable =\n",
              "            await google.colab.kernel.invokeFunction('convertToInteractive',\n",
              "                                                     [key], {});\n",
              "          if (!dataTable) return;\n",
              "\n",
              "          const docLinkHtml = 'Like what you see? Visit the ' +\n",
              "            '<a target=\"_blank\" href=https://colab.research.google.com/notebooks/data_table.ipynb>data table notebook</a>'\n",
              "            + ' to learn more about interactive tables.';\n",
              "          element.innerHTML = '';\n",
              "          dataTable['output_type'] = 'display_data';\n",
              "          await google.colab.output.renderOutput(dataTable, element);\n",
              "          const docLink = document.createElement('div');\n",
              "          docLink.innerHTML = docLinkHtml;\n",
              "          element.appendChild(docLink);\n",
              "        }\n",
              "      </script>\n",
              "    </div>\n",
              "  </div>\n",
              "  "
            ]
          },
          "metadata": {},
          "execution_count": 47
        }
      ]
    },
    {
      "cell_type": "code",
      "source": [
        "df_application.head(5)"
      ],
      "metadata": {
        "colab": {
          "base_uri": "https://localhost:8080/",
          "height": 322
        },
        "id": "koshqQwBYbNH",
        "outputId": "33e83f74-0a78-466c-9cd2-851bbc1a99d3"
      },
      "execution_count": 48,
      "outputs": [
        {
          "output_type": "execute_result",
          "data": {
            "text/plain": [
              "        ID CODE_GENDER FLAG_OWN_CAR FLAG_OWN_REALTY  CNT_CHILDREN  \\\n",
              "0  5008804           M            Y               Y             0   \n",
              "1  5008805           M            Y               Y             0   \n",
              "2  5008806           M            Y               Y             0   \n",
              "3  5008808           F            N               Y             0   \n",
              "4  5008809           F            N               Y             0   \n",
              "\n",
              "   AMT_INCOME_TOTAL      NAME_INCOME_TYPE            NAME_EDUCATION_TYPE  \\\n",
              "0          427500.0               Working               Higher education   \n",
              "1          427500.0               Working               Higher education   \n",
              "2          112500.0               Working  Secondary / secondary special   \n",
              "3          270000.0  Commercial associate  Secondary / secondary special   \n",
              "4          270000.0  Commercial associate  Secondary / secondary special   \n",
              "\n",
              "     NAME_FAMILY_STATUS  NAME_HOUSING_TYPE  DAYS_BIRTH  DAYS_EMPLOYED  \\\n",
              "0        Civil marriage   Rented apartment      -12005          -4542   \n",
              "1        Civil marriage   Rented apartment      -12005          -4542   \n",
              "2               Married  House / apartment      -21474          -1134   \n",
              "3  Single / not married  House / apartment      -19110          -3051   \n",
              "4  Single / not married  House / apartment      -19110          -3051   \n",
              "\n",
              "   FLAG_MOBIL  FLAG_WORK_PHONE  FLAG_PHONE  FLAG_EMAIL OCCUPATION_TYPE  \\\n",
              "0           1                1           0           0             NaN   \n",
              "1           1                1           0           0             NaN   \n",
              "2           1                0           0           0  Security staff   \n",
              "3           1                0           1           1     Sales staff   \n",
              "4           1                0           1           1     Sales staff   \n",
              "\n",
              "   CNT_FAM_MEMBERS  \n",
              "0              2.0  \n",
              "1              2.0  \n",
              "2              2.0  \n",
              "3              1.0  \n",
              "4              1.0  "
            ],
            "text/html": [
              "\n",
              "  <div id=\"df-f243a347-77d5-4d55-8d88-f9be58a1bc70\">\n",
              "    <div class=\"colab-df-container\">\n",
              "      <div>\n",
              "<style scoped>\n",
              "    .dataframe tbody tr th:only-of-type {\n",
              "        vertical-align: middle;\n",
              "    }\n",
              "\n",
              "    .dataframe tbody tr th {\n",
              "        vertical-align: top;\n",
              "    }\n",
              "\n",
              "    .dataframe thead th {\n",
              "        text-align: right;\n",
              "    }\n",
              "</style>\n",
              "<table border=\"1\" class=\"dataframe\">\n",
              "  <thead>\n",
              "    <tr style=\"text-align: right;\">\n",
              "      <th></th>\n",
              "      <th>ID</th>\n",
              "      <th>CODE_GENDER</th>\n",
              "      <th>FLAG_OWN_CAR</th>\n",
              "      <th>FLAG_OWN_REALTY</th>\n",
              "      <th>CNT_CHILDREN</th>\n",
              "      <th>AMT_INCOME_TOTAL</th>\n",
              "      <th>NAME_INCOME_TYPE</th>\n",
              "      <th>NAME_EDUCATION_TYPE</th>\n",
              "      <th>NAME_FAMILY_STATUS</th>\n",
              "      <th>NAME_HOUSING_TYPE</th>\n",
              "      <th>DAYS_BIRTH</th>\n",
              "      <th>DAYS_EMPLOYED</th>\n",
              "      <th>FLAG_MOBIL</th>\n",
              "      <th>FLAG_WORK_PHONE</th>\n",
              "      <th>FLAG_PHONE</th>\n",
              "      <th>FLAG_EMAIL</th>\n",
              "      <th>OCCUPATION_TYPE</th>\n",
              "      <th>CNT_FAM_MEMBERS</th>\n",
              "    </tr>\n",
              "  </thead>\n",
              "  <tbody>\n",
              "    <tr>\n",
              "      <th>0</th>\n",
              "      <td>5008804</td>\n",
              "      <td>M</td>\n",
              "      <td>Y</td>\n",
              "      <td>Y</td>\n",
              "      <td>0</td>\n",
              "      <td>427500.0</td>\n",
              "      <td>Working</td>\n",
              "      <td>Higher education</td>\n",
              "      <td>Civil marriage</td>\n",
              "      <td>Rented apartment</td>\n",
              "      <td>-12005</td>\n",
              "      <td>-4542</td>\n",
              "      <td>1</td>\n",
              "      <td>1</td>\n",
              "      <td>0</td>\n",
              "      <td>0</td>\n",
              "      <td>NaN</td>\n",
              "      <td>2.0</td>\n",
              "    </tr>\n",
              "    <tr>\n",
              "      <th>1</th>\n",
              "      <td>5008805</td>\n",
              "      <td>M</td>\n",
              "      <td>Y</td>\n",
              "      <td>Y</td>\n",
              "      <td>0</td>\n",
              "      <td>427500.0</td>\n",
              "      <td>Working</td>\n",
              "      <td>Higher education</td>\n",
              "      <td>Civil marriage</td>\n",
              "      <td>Rented apartment</td>\n",
              "      <td>-12005</td>\n",
              "      <td>-4542</td>\n",
              "      <td>1</td>\n",
              "      <td>1</td>\n",
              "      <td>0</td>\n",
              "      <td>0</td>\n",
              "      <td>NaN</td>\n",
              "      <td>2.0</td>\n",
              "    </tr>\n",
              "    <tr>\n",
              "      <th>2</th>\n",
              "      <td>5008806</td>\n",
              "      <td>M</td>\n",
              "      <td>Y</td>\n",
              "      <td>Y</td>\n",
              "      <td>0</td>\n",
              "      <td>112500.0</td>\n",
              "      <td>Working</td>\n",
              "      <td>Secondary / secondary special</td>\n",
              "      <td>Married</td>\n",
              "      <td>House / apartment</td>\n",
              "      <td>-21474</td>\n",
              "      <td>-1134</td>\n",
              "      <td>1</td>\n",
              "      <td>0</td>\n",
              "      <td>0</td>\n",
              "      <td>0</td>\n",
              "      <td>Security staff</td>\n",
              "      <td>2.0</td>\n",
              "    </tr>\n",
              "    <tr>\n",
              "      <th>3</th>\n",
              "      <td>5008808</td>\n",
              "      <td>F</td>\n",
              "      <td>N</td>\n",
              "      <td>Y</td>\n",
              "      <td>0</td>\n",
              "      <td>270000.0</td>\n",
              "      <td>Commercial associate</td>\n",
              "      <td>Secondary / secondary special</td>\n",
              "      <td>Single / not married</td>\n",
              "      <td>House / apartment</td>\n",
              "      <td>-19110</td>\n",
              "      <td>-3051</td>\n",
              "      <td>1</td>\n",
              "      <td>0</td>\n",
              "      <td>1</td>\n",
              "      <td>1</td>\n",
              "      <td>Sales staff</td>\n",
              "      <td>1.0</td>\n",
              "    </tr>\n",
              "    <tr>\n",
              "      <th>4</th>\n",
              "      <td>5008809</td>\n",
              "      <td>F</td>\n",
              "      <td>N</td>\n",
              "      <td>Y</td>\n",
              "      <td>0</td>\n",
              "      <td>270000.0</td>\n",
              "      <td>Commercial associate</td>\n",
              "      <td>Secondary / secondary special</td>\n",
              "      <td>Single / not married</td>\n",
              "      <td>House / apartment</td>\n",
              "      <td>-19110</td>\n",
              "      <td>-3051</td>\n",
              "      <td>1</td>\n",
              "      <td>0</td>\n",
              "      <td>1</td>\n",
              "      <td>1</td>\n",
              "      <td>Sales staff</td>\n",
              "      <td>1.0</td>\n",
              "    </tr>\n",
              "  </tbody>\n",
              "</table>\n",
              "</div>\n",
              "      <button class=\"colab-df-convert\" onclick=\"convertToInteractive('df-f243a347-77d5-4d55-8d88-f9be58a1bc70')\"\n",
              "              title=\"Convert this dataframe to an interactive table.\"\n",
              "              style=\"display:none;\">\n",
              "        \n",
              "  <svg xmlns=\"http://www.w3.org/2000/svg\" height=\"24px\"viewBox=\"0 0 24 24\"\n",
              "       width=\"24px\">\n",
              "    <path d=\"M0 0h24v24H0V0z\" fill=\"none\"/>\n",
              "    <path d=\"M18.56 5.44l.94 2.06.94-2.06 2.06-.94-2.06-.94-.94-2.06-.94 2.06-2.06.94zm-11 1L8.5 8.5l.94-2.06 2.06-.94-2.06-.94L8.5 2.5l-.94 2.06-2.06.94zm10 10l.94 2.06.94-2.06 2.06-.94-2.06-.94-.94-2.06-.94 2.06-2.06.94z\"/><path d=\"M17.41 7.96l-1.37-1.37c-.4-.4-.92-.59-1.43-.59-.52 0-1.04.2-1.43.59L10.3 9.45l-7.72 7.72c-.78.78-.78 2.05 0 2.83L4 21.41c.39.39.9.59 1.41.59.51 0 1.02-.2 1.41-.59l7.78-7.78 2.81-2.81c.8-.78.8-2.07 0-2.86zM5.41 20L4 18.59l7.72-7.72 1.47 1.35L5.41 20z\"/>\n",
              "  </svg>\n",
              "      </button>\n",
              "      \n",
              "  <style>\n",
              "    .colab-df-container {\n",
              "      display:flex;\n",
              "      flex-wrap:wrap;\n",
              "      gap: 12px;\n",
              "    }\n",
              "\n",
              "    .colab-df-convert {\n",
              "      background-color: #E8F0FE;\n",
              "      border: none;\n",
              "      border-radius: 50%;\n",
              "      cursor: pointer;\n",
              "      display: none;\n",
              "      fill: #1967D2;\n",
              "      height: 32px;\n",
              "      padding: 0 0 0 0;\n",
              "      width: 32px;\n",
              "    }\n",
              "\n",
              "    .colab-df-convert:hover {\n",
              "      background-color: #E2EBFA;\n",
              "      box-shadow: 0px 1px 2px rgba(60, 64, 67, 0.3), 0px 1px 3px 1px rgba(60, 64, 67, 0.15);\n",
              "      fill: #174EA6;\n",
              "    }\n",
              "\n",
              "    [theme=dark] .colab-df-convert {\n",
              "      background-color: #3B4455;\n",
              "      fill: #D2E3FC;\n",
              "    }\n",
              "\n",
              "    [theme=dark] .colab-df-convert:hover {\n",
              "      background-color: #434B5C;\n",
              "      box-shadow: 0px 1px 3px 1px rgba(0, 0, 0, 0.15);\n",
              "      filter: drop-shadow(0px 1px 2px rgba(0, 0, 0, 0.3));\n",
              "      fill: #FFFFFF;\n",
              "    }\n",
              "  </style>\n",
              "\n",
              "      <script>\n",
              "        const buttonEl =\n",
              "          document.querySelector('#df-f243a347-77d5-4d55-8d88-f9be58a1bc70 button.colab-df-convert');\n",
              "        buttonEl.style.display =\n",
              "          google.colab.kernel.accessAllowed ? 'block' : 'none';\n",
              "\n",
              "        async function convertToInteractive(key) {\n",
              "          const element = document.querySelector('#df-f243a347-77d5-4d55-8d88-f9be58a1bc70');\n",
              "          const dataTable =\n",
              "            await google.colab.kernel.invokeFunction('convertToInteractive',\n",
              "                                                     [key], {});\n",
              "          if (!dataTable) return;\n",
              "\n",
              "          const docLinkHtml = 'Like what you see? Visit the ' +\n",
              "            '<a target=\"_blank\" href=https://colab.research.google.com/notebooks/data_table.ipynb>data table notebook</a>'\n",
              "            + ' to learn more about interactive tables.';\n",
              "          element.innerHTML = '';\n",
              "          dataTable['output_type'] = 'display_data';\n",
              "          await google.colab.output.renderOutput(dataTable, element);\n",
              "          const docLink = document.createElement('div');\n",
              "          docLink.innerHTML = docLinkHtml;\n",
              "          element.appendChild(docLink);\n",
              "        }\n",
              "      </script>\n",
              "    </div>\n",
              "  </div>\n",
              "  "
            ]
          },
          "metadata": {},
          "execution_count": 48
        }
      ]
    },
    {
      "cell_type": "code",
      "source": [
        "sudo_credit =     df_credit\n",
        "sudo_application  =  df_application\n",
        "print(sudo_credit.columns)\n",
        "print(sudo_application.columns)"
      ],
      "metadata": {
        "colab": {
          "base_uri": "https://localhost:8080/"
        },
        "id": "LPTW0lF8HiRM",
        "outputId": "0800f036-b096-4e64-db5b-c93234f8fc19"
      },
      "execution_count": 49,
      "outputs": [
        {
          "output_type": "stream",
          "name": "stdout",
          "text": [
            "Index(['ID', 'MONTHS_BALANCE', 'STATUS'], dtype='object')\n",
            "Index(['ID', 'CODE_GENDER', 'FLAG_OWN_CAR', 'FLAG_OWN_REALTY', 'CNT_CHILDREN',\n",
            "       'AMT_INCOME_TOTAL', 'NAME_INCOME_TYPE', 'NAME_EDUCATION_TYPE',\n",
            "       'NAME_FAMILY_STATUS', 'NAME_HOUSING_TYPE', 'DAYS_BIRTH',\n",
            "       'DAYS_EMPLOYED', 'FLAG_MOBIL', 'FLAG_WORK_PHONE', 'FLAG_PHONE',\n",
            "       'FLAG_EMAIL', 'OCCUPATION_TYPE', 'CNT_FAM_MEMBERS'],\n",
            "      dtype='object')\n"
          ]
        }
      ]
    },
    {
      "cell_type": "markdown",
      "source": [
        "Feature name\tExplanation\tRemarks\n",
        "ID\tClient number\t\n",
        "CODE_GENDER\tGender\t\n",
        "FLAG_OWN_CAR\tIs there a car\t\n",
        "FLAG_OWN_REALTY\tIs there a property\t\n",
        "CNT_CHILDREN\tNumber of children\t\n",
        "AMT_INCOME_TOTAL\tAnnual income\t\n",
        "NAME_INCOME_TYPE\tIncome category\t\n",
        "NAME_EDUCATION_TYPE\tEducation level\t\n",
        "NAME_FAMILY_STATUS\tMarital status\t\n",
        "NAME_HOUSING_TYPE\tWay of living\t\n",
        "DAYS_BIRTH\tBirthday\tCount backwards from current day (0), -1 means yesterday\n",
        "DAYS_EMPLOYED\tStart date of employment\tCount backwards from current day(0). If positive, it means the person currently unemployed.\n",
        "FLAG_MOBIL\tIs there a mobile phone\t\n",
        "FLAG_WORK_PHONE\tIs there a work phone\t\n",
        "FLAG_PHONE\tIs there a phone\t\n",
        "FLAG_EMAIL\tIs there an email\t\n",
        "OCCUPATION_TYPE\tOccupation\t\n",
        "CNT_FAM_MEMBERS\tFamily size\t\n",
        "credit_record.csv\t\t\n",
        "Feature name\tExplanation\tRemarks\n",
        "ID\tClient number\t\n",
        "MONTHS_BALANCE\tRecord month\tThe month of the extracted data is the starting point, backwards, 0 is the current month, -1 is the previous month, and so on\n",
        "STATUS\tStatus\t0: 1-29 days past due 1: 30-59 days past due 2: 60-89 days overdue 3: 90-119 days overdue 4: 120-149 days overdue 5: Overdue or bad debts, write-offs for more than 150 days C: paid off that month X: No loan for the month"
      ],
      "metadata": {
        "id": "L0DvD01cURLJ"
      }
    },
    {
      "cell_type": "code",
      "source": [
        "\n",
        "\n",
        "# Read your dataset into a Pandas DataFrame\n",
        "\n",
        "\n",
        "# Check for missing values\n",
        "missing_values_application = sudo_application.isnull().sum()\n",
        "missing_values_credit  =    sudo_credit.isnull().sum()\n",
        "# Print the count of missing values for each column\n",
        "print(missing_values_application)\n",
        "print('***************')\n",
        "print(missing_values_credit)\n"
      ],
      "metadata": {
        "colab": {
          "base_uri": "https://localhost:8080/"
        },
        "id": "gftAyesNUSuh",
        "outputId": "8ad189f5-0743-4df8-c24c-13fbf5a19cd9"
      },
      "execution_count": 50,
      "outputs": [
        {
          "output_type": "stream",
          "name": "stdout",
          "text": [
            "ID                          0\n",
            "CODE_GENDER                 0\n",
            "FLAG_OWN_CAR                0\n",
            "FLAG_OWN_REALTY             0\n",
            "CNT_CHILDREN                0\n",
            "AMT_INCOME_TOTAL            0\n",
            "NAME_INCOME_TYPE            0\n",
            "NAME_EDUCATION_TYPE         0\n",
            "NAME_FAMILY_STATUS          0\n",
            "NAME_HOUSING_TYPE           0\n",
            "DAYS_BIRTH                  0\n",
            "DAYS_EMPLOYED               0\n",
            "FLAG_MOBIL                  0\n",
            "FLAG_WORK_PHONE             0\n",
            "FLAG_PHONE                  0\n",
            "FLAG_EMAIL                  0\n",
            "OCCUPATION_TYPE        134203\n",
            "CNT_FAM_MEMBERS             0\n",
            "dtype: int64\n",
            "***************\n",
            "ID                0\n",
            "MONTHS_BALANCE    0\n",
            "STATUS            0\n",
            "dtype: int64\n"
          ]
        }
      ]
    },
    {
      "cell_type": "code",
      "source": [
        "print(sudo_application.shape)\n",
        "print(sudo_credit.shape)"
      ],
      "metadata": {
        "colab": {
          "base_uri": "https://localhost:8080/"
        },
        "id": "CbHeUqZkVQyJ",
        "outputId": "440fe7d5-b28d-4422-ffe7-db619ca1440e"
      },
      "execution_count": 51,
      "outputs": [
        {
          "output_type": "stream",
          "name": "stdout",
          "text": [
            "(438557, 18)\n",
            "(1048575, 3)\n"
          ]
        }
      ]
    },
    {
      "cell_type": "code",
      "source": [
        "def percent_missed(col, df):\n",
        "    percent = (df[col].isnull().sum() / len(df[col])) * 100\n",
        "    return \"The percentage of missing values in column '{}' is: {:.2f}%\".format(col, percent)\n",
        "\n",
        "print(percent_missed('OCCUPATION_TYPE' ,    sudo_application))"
      ],
      "metadata": {
        "colab": {
          "base_uri": "https://localhost:8080/"
        },
        "id": "KKuWYirBVd02",
        "outputId": "a78975eb-91b2-4490-882e-de4528ad1ec9"
      },
      "execution_count": 52,
      "outputs": [
        {
          "output_type": "stream",
          "name": "stdout",
          "text": [
            "The percentage of missing values in column 'OCCUPATION_TYPE' is: 30.60%\n"
          ]
        }
      ]
    },
    {
      "cell_type": "code",
      "source": [
        "print(sudo_application['OCCUPATION_TYPE'].head(18))"
      ],
      "metadata": {
        "colab": {
          "base_uri": "https://localhost:8080/"
        },
        "id": "k2NXrpyNdRj6",
        "outputId": "36ff5c4a-d2c1-46a9-b735-00149953c595"
      },
      "execution_count": 53,
      "outputs": [
        {
          "output_type": "stream",
          "name": "stdout",
          "text": [
            "0                NaN\n",
            "1                NaN\n",
            "2     Security staff\n",
            "3        Sales staff\n",
            "4        Sales staff\n",
            "5        Sales staff\n",
            "6        Sales staff\n",
            "7                NaN\n",
            "8                NaN\n",
            "9                NaN\n",
            "10       Accountants\n",
            "11       Accountants\n",
            "12       Accountants\n",
            "13          Laborers\n",
            "14          Laborers\n",
            "15          Laborers\n",
            "16          Laborers\n",
            "17          Laborers\n",
            "Name: OCCUPATION_TYPE, dtype: object\n"
          ]
        }
      ]
    },
    {
      "cell_type": "code",
      "source": [
        "\n",
        "df_without_null = sudo_application.dropna(subset=['OCCUPATION_TYPE'])\n",
        "# Assuming you have a DataFrame named 'df' containing your data\n",
        "# with columns 'AMT_INCOME_TOTAL' and 'OCCUPATION_TYPE'\n",
        "\n",
        "# Group the data by 'OCCUPATION_TYPE' and calculate the average income\n",
        "income_by_job = df_without_null.groupby('OCCUPATION_TYPE')['AMT_INCOME_TOTAL'].mean()\n",
        "\n",
        "# Print the average income for each job title\n",
        "print(income_by_job)\n"
      ],
      "metadata": {
        "colab": {
          "base_uri": "https://localhost:8080/"
        },
        "id": "lGhXZdgThmib",
        "outputId": "a3c8f8bd-8562-4ecb-96a1-bbc843789fcc"
      },
      "execution_count": 54,
      "outputs": [
        {
          "output_type": "stream",
          "name": "stdout",
          "text": [
            "OCCUPATION_TYPE\n",
            "Accountants              215137.274977\n",
            "Cleaning staff           147064.463815\n",
            "Cooking staff            155848.425334\n",
            "Core staff               190905.844378\n",
            "Drivers                  202065.242047\n",
            "HR staff                 203620.686047\n",
            "High skill tech staff    195712.011010\n",
            "IT staff                 210958.733444\n",
            "Laborers                 179865.810449\n",
            "Low-skill Laborers       150334.309346\n",
            "Managers                 282125.938701\n",
            "Medicine staff           168102.197707\n",
            "Private service staff    201600.651042\n",
            "Realty agents            223510.806916\n",
            "Sales staff              170912.759267\n",
            "Secretaries              169456.878669\n",
            "Security staff           169835.113662\n",
            "Waiters/barmen staff     158796.621622\n",
            "Name: AMT_INCOME_TOTAL, dtype: float64\n"
          ]
        }
      ]
    },
    {
      "cell_type": "code",
      "source": [
        "# NAME_INCOME_TYPE\n",
        "unique_values = sudo_application['OCCUPATION_TYPE'].sort_values().unique()\n",
        "print(unique_values)\n"
      ],
      "metadata": {
        "colab": {
          "base_uri": "https://localhost:8080/"
        },
        "id": "kE8vi_wKil4T",
        "outputId": "a33dcbe8-1cd6-4045-9932-3585c02d5617"
      },
      "execution_count": 55,
      "outputs": [
        {
          "output_type": "stream",
          "name": "stdout",
          "text": [
            "['Accountants' 'Cleaning staff' 'Cooking staff' 'Core staff' 'Drivers'\n",
            " 'HR staff' 'High skill tech staff' 'IT staff' 'Laborers'\n",
            " 'Low-skill Laborers' 'Managers' 'Medicine staff' 'Private service staff'\n",
            " 'Realty agents' 'Sales staff' 'Secretaries' 'Security staff'\n",
            " 'Waiters/barmen staff' nan]\n"
          ]
        }
      ]
    },
    {
      "cell_type": "code",
      "source": [
        "sudo_application['OCCUPATION_TYPE'].fillna(value='Other', inplace=True)"
      ],
      "metadata": {
        "id": "oWS5oIrgrumI"
      },
      "execution_count": 56,
      "outputs": []
    },
    {
      "cell_type": "code",
      "source": [
        "print(sudo_application['OCCUPATION_TYPE'].head(18))"
      ],
      "metadata": {
        "colab": {
          "base_uri": "https://localhost:8080/"
        },
        "id": "q0GOVAgCr9M1",
        "outputId": "8ba18d43-f3c8-40b6-a5c6-e375023a614b"
      },
      "execution_count": 57,
      "outputs": [
        {
          "output_type": "stream",
          "name": "stdout",
          "text": [
            "0              Other\n",
            "1              Other\n",
            "2     Security staff\n",
            "3        Sales staff\n",
            "4        Sales staff\n",
            "5        Sales staff\n",
            "6        Sales staff\n",
            "7              Other\n",
            "8              Other\n",
            "9              Other\n",
            "10       Accountants\n",
            "11       Accountants\n",
            "12       Accountants\n",
            "13          Laborers\n",
            "14          Laborers\n",
            "15          Laborers\n",
            "16          Laborers\n",
            "17          Laborers\n",
            "Name: OCCUPATION_TYPE, dtype: object\n"
          ]
        }
      ]
    },
    {
      "cell_type": "code",
      "source": [
        "\n",
        "\n",
        "# CODE_GENDER Gender\n",
        "# FLAG_OWN_CAR Is there a car\n",
        "# FLAG_OWN_REALTY Is there a property\n",
        "# CNT_CHILDREN Number of children\n",
        "# AMT_INCOME_TOTAL Annual income\n",
        "# NAME_INCOME_TYPE Income category\n",
        "# NAME_EDUCATION_TYPE Education level\n",
        "# NAME_FAMILY_STATUS Marital status\n",
        "# NAME_HOUSING_TYPE Way of living\n",
        "# DAYS_BIRTH Birthday Count backwards from current day (0), -1 means yesterday DAYS_EMPLOYED Start date of employment Count backwards from current day(0). If positive, it means the person currently unemployed. \n",
        "# FLAG_MOBIL Is there a mobile phone\n",
        "# FLAG_WORK_PHONE Is there a work phone\n",
        "# FLAG_PHONE Is there a phone\n",
        "# FLAG_EMAIL Is there an email\n",
        "# OCCUPATION_TYPE Occupation\n",
        "# CNT_FAM_MEMBERS Family size\n",
        "\n",
        "credit_columns_names  =    { 'ID'   :    'id', 'MONTHS_BALANCE'  :   'months_balance', 'STATUS' :  'status'}\n",
        "\n",
        "application_columns_names =    {'ID'   :   'id', 'CODE_GENDER'  : 'gender', 'FLAG_OWN_CAR'   :   'car_true', 'FLAG_OWN_REALTY'  :\"property_true\", 'CNT_CHILDREN':   'number_of_children',\n",
        "       'AMT_INCOME_TOTAL' :  'annual_income', 'NAME_INCOME_TYPE'  :  'income_category', 'NAME_EDUCATION_TYPE'  :'education',\n",
        "       'NAME_FAMILY_STATUS'   :   'married', 'NAME_HOUSING_TYPE'  :   'type_of_home', 'DAYS_BIRTH'    :   'days_birth',\n",
        "       'DAYS_EMPLOYED'   : 'reverse_hire_date', 'FLAG_MOBIL'   : 'mobile', 'FLAG_WORK_PHONE'   :   'work_phone_true', 'FLAG_PHONE'  : 'home_phone',\n",
        "       'FLAG_EMAIL'   :'email_true', 'OCCUPATION_TYPE':  'job_name', 'CNT_FAM_MEMBERS'   :  'family_size'}\n",
        "\n",
        "\n",
        "sudo_application  =    sudo_application.rename(columns  =  application_columns_names)      \n",
        "sudo_credit       =    sudo_credit.rename(columns =   credit_columns_names)\n",
        "\n",
        "print(sudo_application.columns)\n",
        "print(sudo_credit.columns)"
      ],
      "metadata": {
        "colab": {
          "base_uri": "https://localhost:8080/"
        },
        "id": "RVYHa1mRfFfQ",
        "outputId": "1303b852-cdb7-4d9b-c44b-e526cdf38b98"
      },
      "execution_count": 58,
      "outputs": [
        {
          "output_type": "stream",
          "name": "stdout",
          "text": [
            "Index(['id', 'gender', 'car_true', 'property_true', 'number_of_children',\n",
            "       'annual_income', 'income_category', 'education', 'married',\n",
            "       'type_of_home', 'days_birth', 'reverse_hire_date', 'mobile',\n",
            "       'work_phone_true', 'home_phone', 'email_true', 'job_name',\n",
            "       'family_size'],\n",
            "      dtype='object')\n",
            "Index(['id', 'months_balance', 'status'], dtype='object')\n"
          ]
        }
      ]
    },
    {
      "cell_type": "code",
      "source": [
        "\n",
        "print(sudo_credit.info())\n",
        "print(sudo_application.info())"
      ],
      "metadata": {
        "colab": {
          "base_uri": "https://localhost:8080/"
        },
        "id": "Mkqga3Pbizon",
        "outputId": "d7326562-0f62-463f-c5c7-19787ca5d0b6"
      },
      "execution_count": 59,
      "outputs": [
        {
          "output_type": "stream",
          "name": "stdout",
          "text": [
            "<class 'pandas.core.frame.DataFrame'>\n",
            "RangeIndex: 1048575 entries, 0 to 1048574\n",
            "Data columns (total 3 columns):\n",
            " #   Column          Non-Null Count    Dtype \n",
            "---  ------          --------------    ----- \n",
            " 0   id              1048575 non-null  int64 \n",
            " 1   months_balance  1048575 non-null  int64 \n",
            " 2   status          1048575 non-null  object\n",
            "dtypes: int64(2), object(1)\n",
            "memory usage: 24.0+ MB\n",
            "None\n",
            "<class 'pandas.core.frame.DataFrame'>\n",
            "RangeIndex: 438557 entries, 0 to 438556\n",
            "Data columns (total 18 columns):\n",
            " #   Column              Non-Null Count   Dtype  \n",
            "---  ------              --------------   -----  \n",
            " 0   id                  438557 non-null  int64  \n",
            " 1   gender              438557 non-null  object \n",
            " 2   car_true            438557 non-null  object \n",
            " 3   property_true       438557 non-null  object \n",
            " 4   number_of_children  438557 non-null  int64  \n",
            " 5   annual_income       438557 non-null  float64\n",
            " 6   income_category     438557 non-null  object \n",
            " 7   education           438557 non-null  object \n",
            " 8   married             438557 non-null  object \n",
            " 9   type_of_home        438557 non-null  object \n",
            " 10  days_birth          438557 non-null  int64  \n",
            " 11  reverse_hire_date   438557 non-null  int64  \n",
            " 12  mobile              438557 non-null  int64  \n",
            " 13  work_phone_true     438557 non-null  int64  \n",
            " 14  home_phone          438557 non-null  int64  \n",
            " 15  email_true          438557 non-null  int64  \n",
            " 16  job_name            438557 non-null  object \n",
            " 17  family_size         438557 non-null  float64\n",
            "dtypes: float64(2), int64(8), object(8)\n",
            "memory usage: 60.2+ MB\n",
            "None\n"
          ]
        }
      ]
    },
    {
      "cell_type": "code",
      "source": [
        "print(sudo_credit.isna().sum())\n",
        "\n",
        "\n",
        "#    sum    counts   true  and  in  our  case   is   not  null  it returns   false.which   means  that  no   missing  values"
      ],
      "metadata": {
        "id": "Q9YvsUx6ml0z",
        "colab": {
          "base_uri": "https://localhost:8080/"
        },
        "outputId": "37e6a876-9b23-473f-aa4f-e96e6dacf764"
      },
      "execution_count": 60,
      "outputs": [
        {
          "output_type": "stream",
          "name": "stdout",
          "text": [
            "id                0\n",
            "months_balance    0\n",
            "status            0\n",
            "dtype: int64\n"
          ]
        }
      ]
    },
    {
      "cell_type": "code",
      "source": [
        "print(sudo_application.describe())\n"
      ],
      "metadata": {
        "colab": {
          "base_uri": "https://localhost:8080/"
        },
        "id": "CePzhOiZhl7G",
        "outputId": "26167d0b-e993-4ea1-c28b-6638895d25ac"
      },
      "execution_count": 61,
      "outputs": [
        {
          "output_type": "stream",
          "name": "stdout",
          "text": [
            "                 id  number_of_children  annual_income     days_birth  \\\n",
            "count  4.385570e+05       438557.000000   4.385570e+05  438557.000000   \n",
            "mean   6.022176e+06            0.427390   1.875243e+05  -15997.904649   \n",
            "std    5.716370e+05            0.724882   1.100869e+05    4185.030007   \n",
            "min    5.008804e+06            0.000000   2.610000e+04  -25201.000000   \n",
            "25%    5.609375e+06            0.000000   1.215000e+05  -19483.000000   \n",
            "50%    6.047745e+06            0.000000   1.607805e+05  -15630.000000   \n",
            "75%    6.456971e+06            1.000000   2.250000e+05  -12514.000000   \n",
            "max    7.999952e+06           19.000000   6.750000e+06   -7489.000000   \n",
            "\n",
            "       reverse_hire_date    mobile  work_phone_true     home_phone  \\\n",
            "count      438557.000000  438557.0    438557.000000  438557.000000   \n",
            "mean        60563.675328       1.0         0.206133       0.287771   \n",
            "std        138767.799647       0.0         0.404527       0.452724   \n",
            "min        -17531.000000       1.0         0.000000       0.000000   \n",
            "25%         -3103.000000       1.0         0.000000       0.000000   \n",
            "50%         -1467.000000       1.0         0.000000       0.000000   \n",
            "75%          -371.000000       1.0         0.000000       1.000000   \n",
            "max        365243.000000       1.0         1.000000       1.000000   \n",
            "\n",
            "          email_true    family_size  \n",
            "count  438557.000000  438557.000000  \n",
            "mean        0.108207       2.194465  \n",
            "std         0.310642       0.897207  \n",
            "min         0.000000       1.000000  \n",
            "25%         0.000000       2.000000  \n",
            "50%         0.000000       2.000000  \n",
            "75%         0.000000       3.000000  \n",
            "max         1.000000      20.000000  \n"
          ]
        }
      ]
    },
    {
      "cell_type": "markdown",
      "source": [
        "OUTLIERS    \n"
      ],
      "metadata": {
        "id": "areQr2TyG6uN"
      }
    },
    {
      "cell_type": "code",
      "source": [
        "unique_values = sudo_application['home_phone'].sort_values().unique()\n",
        "print(unique_values)"
      ],
      "metadata": {
        "colab": {
          "base_uri": "https://localhost:8080/"
        },
        "id": "kbCzJgphG8qf",
        "outputId": "a8e05603-2ccd-468e-aced-5f08142c1d71"
      },
      "execution_count": 62,
      "outputs": [
        {
          "output_type": "stream",
          "name": "stdout",
          "text": [
            "[0 1]\n"
          ]
        }
      ]
    },
    {
      "cell_type": "code",
      "source": [
        "numeric_sudo  = [ 'number_of_children',\n",
        "       'annual_income', 'days_birth', 'reverse_hire_date', 'mobile',\n",
        "       'work_phone_true', 'home_phone', 'email_true', 'job_name',\n",
        "       'family_size']\n",
        "\n",
        "ordinal_sudo  =  [ 'education' ]\n",
        "categorical_sudo =['income_category' ,'married' ,   'type_of_home',  'job_name' ]\n",
        "time_sudo  = ['days_birth', 'reverse_hire_date']\n",
        "boolean_sudo  = ['gender' ,  'car_true' ,   'property_true' ,'work_phone_true', 'home_phone', 'email_true', ]\n",
        "\n",
        "\n",
        "\n",
        "def get_unique_values(df):\n",
        "    unique_values = {}\n",
        "    for column in df.columns:\n",
        "        unique_values[column] = (len(df[column].unique()), '\\n')\n",
        "    return unique_values\n",
        "\n",
        "\n",
        "print(get_unique_values(sudo_application))"
      ],
      "metadata": {
        "colab": {
          "base_uri": "https://localhost:8080/"
        },
        "id": "cR8xYFf3FUK7",
        "outputId": "7701fd79-fdcd-48cf-ea2c-2adabe54c5a7"
      },
      "execution_count": 63,
      "outputs": [
        {
          "output_type": "stream",
          "name": "stdout",
          "text": [
            "{'id': (438510, '\\n'), 'gender': (2, '\\n'), 'car_true': (2, '\\n'), 'property_true': (2, '\\n'), 'number_of_children': (12, '\\n'), 'annual_income': (866, '\\n'), 'income_category': (5, '\\n'), 'education': (5, '\\n'), 'married': (5, '\\n'), 'type_of_home': (6, '\\n'), 'days_birth': (16379, '\\n'), 'reverse_hire_date': (9406, '\\n'), 'mobile': (1, '\\n'), 'work_phone_true': (2, '\\n'), 'home_phone': (2, '\\n'), 'email_true': (2, '\\n'), 'job_name': (19, '\\n'), 'family_size': (13, '\\n')}\n"
          ]
        }
      ]
    },
    {
      "cell_type": "code",
      "source": [
        "import matplotlib.pyplot as plt\n",
        "import pandas as pd\n",
        "\n",
        "# Assuming 'supo_application' is your DataFrame\n",
        "# Plotting the histogram of 'annual_income' column\n",
        "sudo_application['annual_income'].plot.hist(bins=50)\n",
        "\n",
        "# Set plot labels and title\n",
        "plt.xlabel('Annual Income')\n",
        "plt.ylabel('Frequency')\n",
        "plt.title('Histogram of Annual Income')\n",
        "plt.xlim(0, 1000000)\n",
        "# Display the plot\n",
        "plt.show()\n",
        "print('max' , sudo_application['annual_income'].max())\n",
        "print( 'min' ,  sudo_application['annual_income'].min())\n",
        "print(sudo_application['annual_income'].std())\n",
        "print( 'mean',  sudo_application['annual_income'].mean())\n",
        "print( 'mode' , sudo_application['annual_income'].mode())\n",
        "print(  'median', sudo_application['annual_income'].median())\n"
      ],
      "metadata": {
        "colab": {
          "base_uri": "https://localhost:8080/",
          "height": 593
        },
        "id": "znphR_27lBSk",
        "outputId": "fca0cbf9-9e9c-486f-8d66-b47c3e85fe40"
      },
      "execution_count": 85,
      "outputs": [
        {
          "output_type": "display_data",
          "data": {
            "text/plain": [
              "<Figure size 640x480 with 1 Axes>"
            ],
            "image/png": "[encoded data removed]"
          },
          "metadata": {}
        },
        {
          "output_type": "stream",
          "name": "stdout",
          "text": [
            "max 517500.0\n",
            "min 26100.0\n",
            "88836.58861692536\n",
            "mean 184833.29662263504\n",
            "mode 0    135000.0\n",
            "Name: annual_income, dtype: float64\n",
            "median 160780.5\n"
          ]
        }
      ]
    },
    {
      "cell_type": "code",
      "source": [
        "\n",
        "\n",
        "# Assuming 'sudo_application' is your DataFrame\n",
        "# Count the number of values equal to 0 in 'annual_income' column\n",
        "zero_count = (sudo_application['annual_income'] == 0).sum()\n",
        "\n",
        "# Print the count\n",
        "print(\"Number of values equal to 0: \", zero_count)\n"
      ],
      "metadata": {
        "colab": {
          "base_uri": "https://localhost:8080/"
        },
        "id": "6bcyQ0P4piVj",
        "outputId": "c5d0f3bb-d3cb-40a2-d45c-a4bd6f275688"
      },
      "execution_count": 83,
      "outputs": [
        {
          "output_type": "stream",
          "name": "stdout",
          "text": [
            "Number of values equal to 0:  0\n"
          ]
        }
      ]
    },
    {
      "cell_type": "code",
      "source": [
        "import pandas as pd\n",
        "import numpy as np\n",
        "\n",
        "# Assuming 'supo_application' is your DataFrame\n",
        "# Calculate the z-scores for 'annual_income'\n",
        "mean = sudo_application['annual_income'].mean()\n",
        "std = sudo_application['annual_income'].std()\n",
        "z_scores = (sudo_application['annual_income'] - mean) / std\n",
        "\n",
        "# Replace values above 3 z-scores with values equal to 2.8 z-scores\n",
        "z_score_threshold = 3\n",
        "replacement_z_score = 2.8\n",
        "sudo_application.loc[z_scores > z_score_threshold, 'annual_income'] = mean + replacement_z_score * std\n",
        "\n",
        "# Print the modified DataFrame\n",
        "\n",
        "sudo_application['annual_income'].plot.hist(bins=20)\n",
        "\n",
        "# Set plot labels and title\n",
        "plt.xlabel('Annual Income')\n",
        "plt.ylabel('Frequency')\n",
        "plt.title('Histogram of Annual Income')\n",
        "plt.xlim(0, 1000000)\n",
        "# Display the plot\n",
        "plt.show()"
      ],
      "metadata": {
        "colab": {
          "base_uri": "https://localhost:8080/",
          "height": 472
        },
        "id": "6ub6kuioodec",
        "outputId": "a6f07656-1267-4508-ca46-333cc0a25414"
      },
      "execution_count": 84,
      "outputs": [
        {
          "output_type": "display_data",
          "data": {
            "text/plain": [
              "<Figure size 640x480 with 1 Axes>"
            ],
            "image/png": "[encoded data removed]"
          },
          "metadata": {}
        }
      ]
    },
    {
      "cell_type": "code",
      "source": [],
      "metadata": {
        "id": "CSlGEeqvqGJK"
      },
      "execution_count": null,
      "outputs": []
    }
  ]
}
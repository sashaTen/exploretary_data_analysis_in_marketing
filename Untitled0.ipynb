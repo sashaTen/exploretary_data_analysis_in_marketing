{
  "cells": [
    {
      "cell_type": "markdown",
      "metadata": {
        "id": "view-in-github",
        "colab_type": "text"
      },
      "source": [
        "<a href=\"https://colab.research.google.com/github/sashaTen/exploretary_data_analysis_in_marketing/blob/main/Untitled0.ipynb\" target=\"_parent\"><img src=\"https://colab.research.google.com/assets/colab-badge.svg\" alt=\"Open In Colab\"/></a>"
      ]
    },
    {
      "cell_type": "code",
      "source": [
        "%matplotlib inline\n",
        "\n",
        "from pathlib import Path\n",
        "\n",
        "import pandas as pd\n",
        "import numpy as np\n",
        "from scipy.stats import trim_mean\n",
        "from statsmodels import robust\n",
        "\n",
        "\n",
        "import seaborn as sns\n",
        "import matplotlib.pylab as plt\n",
        "\n",
        "\n",
        "# Table 1-2\n",
        "state = pd.read_csv(\"https://raw.githubusercontent.com/gedeck/practical-statistics-for-data-scientists/master/data/state.csv\")\n",
        "#print(state.head(8))\n",
        "#mean, trimmed mean, and median \n",
        "population  =    state[\"Population\"]\n",
        "#print(population.mean())\n",
        "#6162876.3\n",
        "meanPOPULATION  =    population.mean()\n",
        "medianPOPULATION   =    population.median()\n",
        "trim_meanPOPULATION    =trim_mean(state['Population'], 0.1)\n",
        "print(   \"   mean:\" ,    meanPOPULATION    ,   \"       median:\"  ,    medianPOPULATION ,  \"        trim   mean:\"   ,   trim_meanPOPULATION)"
      ],
      "metadata": {
        "colab": {
          "base_uri": "https://localhost:8080/"
        },
        "id": "Ch4jW3V432Y3",
        "outputId": "bfed1410-1f33-4e6d-d3f2-467980119350"
      },
      "execution_count": 4,
      "outputs": [
        {
          "output_type": "stream",
          "name": "stdout",
          "text": [
            "   mean: 6162876.3        median: 4436369.5         trim   mean: 4783697.125\n"
          ]
        }
      ]
    },
    {
      "cell_type": "code",
      "source": [
        "stdPOPULATION  =  population.std()\n",
        "print(stdPOPULATION)\n"
      ],
      "metadata": {
        "colab": {
          "base_uri": "https://localhost:8080/"
        },
        "id": "HeWw8btc7E98",
        "outputId": "6584bb3e-8ede-4087-f9a1-080ced79a605"
      },
      "execution_count": 5,
      "outputs": [
        {
          "output_type": "stream",
          "name": "stdout",
          "text": [
            "6848235.347401142\n"
          ]
        }
      ]
    },
    {
      "cell_type": "code",
      "source": [
        "print(population.quantile(0.75)  -    population.quantile(0.25)  ,   '  '  ,  stdPOPULATION )"
      ],
      "metadata": {
        "colab": {
          "base_uri": "https://localhost:8080/"
        },
        "id": "le_oge0Q7GhH",
        "outputId": "422817e9-cf13-40af-8b1c-aa6ffaa2247e"
      },
      "execution_count": 7,
      "outputs": [
        {
          "output_type": "stream",
          "name": "stdout",
          "text": [
            "4847308.0    6848235.347401142\n"
          ]
        }
      ]
    },
    {
      "cell_type": "code",
      "source": [
        "print(state[\"Murder.Rate\"].mean() ,   \"  and trim   mean \",     trim_mean(state[\"Murder.Rate\"] ,   0.1))"
      ],
      "metadata": {
        "id": "FKjbEcfyCATI",
        "colab": {
          "base_uri": "https://localhost:8080/"
        },
        "outputId": "a78b90fe-c3ad-415a-e8cc-888b6227b4ac"
      },
      "execution_count": 12,
      "outputs": [
        {
          "output_type": "stream",
          "name": "stdout",
          "text": [
            "4.066   and trim   mean  3.9450000000000003\n"
          ]
        }
      ]
    },
    {
      "cell_type": "code",
      "source": [
        "binnedPOPULATION    =   pd.cut(population,  10)\n",
        "print(binnedPOPULATION.value_counts())"
      ],
      "metadata": {
        "colab": {
          "base_uri": "https://localhost:8080/"
        },
        "id": "VIGcDfabZzo3",
        "outputId": "f1346913-4895-47df-d87c-3433ff486fbf"
      },
      "execution_count": 19,
      "outputs": [
        {
          "output_type": "stream",
          "name": "stdout",
          "text": [
            "(526935.67, 4232659.0]      24\n",
            "(4232659.0, 7901692.0]      14\n",
            "(7901692.0, 11570725.0]      6\n",
            "(11570725.0, 15239758.0]     2\n",
            "(15239758.0, 18908791.0]     1\n",
            "(18908791.0, 22577824.0]     1\n",
            "(22577824.0, 26246857.0]     1\n",
            "(33584923.0, 37253956.0]     1\n",
            "(26246857.0, 29915890.0]     0\n",
            "(29915890.0, 33584923.0]     0\n",
            "Name: Population, dtype: int64\n"
          ]
        }
      ]
    }
  ],
  "metadata": {
    "colab": {
      "collapsed_sections": [],
      "provenance": [],
      "authorship_tag": "ABX9TyM7viHNq9BuCc4Xt2/msRSC",
      "include_colab_link": true
    },
    "kernelspec": {
      "display_name": "Python 3",
      "name": "python3"
    }
  },
  "nbformat": 4,
  "nbformat_minor": 0
}
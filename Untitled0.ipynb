{
  "nbformat": 4,
  "nbformat_minor": 0,
  "metadata": {
    "colab": {
      "provenance": [],
      "authorship_tag": "ABX9TyMPIL7FeMjrfej65zUy1wTA",
      "include_colab_link": true
    },
    "kernelspec": {
      "name": "python3",
      "display_name": "Python 3"
    },
    "language_info": {
      "name": "python"
    }
  },
  "cells": [
    {
      "cell_type": "markdown",
      "metadata": {
        "id": "view-in-github",
        "colab_type": "text"
      },
      "source": [
        "<a href=\"https://colab.research.google.com/github/sashaTen/python_for_data-_science-/blob/main/Untitled0.ipynb\" target=\"_parent\"><img src=\"https://colab.research.google.com/assets/colab-badge.svg\" alt=\"Open In Colab\"/></a>"
      ]
    },
    {
      "cell_type": "code",
      "execution_count": 32,
      "metadata": {
        "colab": {
          "base_uri": "https://localhost:8080/"
        },
        "id": "K2dYqCRnDKPf",
        "outputId": "36f7ea84-a63e-48d5-c87c-043ea0f7a825"
      },
      "outputs": [
        {
          "output_type": "stream",
          "name": "stdout",
          "text": [
            "         weight_pounds state  year  month  child_race  plurality  mother_race  \\\n",
            "0             7.813183    GA  2003      9         NaN          1          1.0   \n",
            "1             8.000575    GA  2003      1         NaN          1          1.0   \n",
            "2             7.251004    GA  2003     12         NaN          1          1.0   \n",
            "3             9.568062    GA  2003      4         NaN          1          7.0   \n",
            "4             7.187070    GA  2004      2         NaN          1          1.0   \n",
            "...                ...   ...   ...    ...         ...        ...          ...   \n",
            "1998241       7.228958    HI  2003      9         NaN          1         38.0   \n",
            "1998242       6.375769    IL  2003      1         NaN          1          2.0   \n",
            "1998243       6.375769    MD  2004      8         NaN          1          2.0   \n",
            "1998244       6.750554    MS  2004     12         NaN          2          2.0   \n",
            "1998245       5.690131    NY  2003     10         NaN          1          2.0   \n",
            "\n",
            "         mother_age cigarette_use  cigarettes_per_day alcohol_use  \\\n",
            "0                34         False                 NaN       False   \n",
            "1                37          True                15.0        True   \n",
            "2                30         False                 NaN       False   \n",
            "3                39         False                 NaN       False   \n",
            "4                38         False                 NaN       False   \n",
            "...             ...           ...                 ...         ...   \n",
            "1998241          35         False                 NaN       False   \n",
            "1998242          32          True                 6.0        True   \n",
            "1998243          30         False                 NaN       False   \n",
            "1998244          29         False                 NaN       False   \n",
            "1998245          31          True                 9.0        True   \n",
            "\n",
            "         drinks_per_week  father_race  father_age  is_male  gestation_weeks  \n",
            "0                    NaN          1.0          39    False               39  \n",
            "1                    0.0          1.0          31     True               41  \n",
            "2                    NaN          1.0          38    False               40  \n",
            "3                    NaN          1.0          39     True               40  \n",
            "4                    NaN          1.0          39     True               40  \n",
            "...                  ...          ...         ...      ...              ...  \n",
            "1998241              NaN         99.0          99     True               40  \n",
            "1998242              0.0         99.0          99     True               38  \n",
            "1998243              NaN         99.0          48    False               39  \n",
            "1998244              NaN         99.0          99    False               40  \n",
            "1998245              0.0         99.0          99     True               38  \n",
            "\n",
            "[1998246 rows x 16 columns]\n"
          ]
        }
      ],
      "source": [
        "import    pandas  as  pd \n",
        "import numpy as np\n",
        "import matplotlib.pyplot as plt\n",
        "import seaborn as sns\n",
        "\n",
        "\n",
        "#   TEST   DATA \n",
        "\n",
        "# # https://raw.githubusercontent.com/dsindy/kaggle-titanic/master/data/test.csv   //  \n",
        "# print(df.head(45).to_string())\n",
        "\n",
        "\n",
        "\n",
        "\n",
        "\n",
        "\n",
        "df=pd.read_csv(\"/content/drive/MyDrive/data   science /us_new_born_2million.csv\")\n",
        "print(df)\n"
      ]
    }
  ]
}
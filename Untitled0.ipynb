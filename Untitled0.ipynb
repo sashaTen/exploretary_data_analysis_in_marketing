{
  "cells": [
    {
      "cell_type": "markdown",
      "metadata": {
        "id": "view-in-github",
        "colab_type": "text"
      },
      "source": [
        "<a href=\"https://colab.research.google.com/github/sashaTen/exploretary_data_analysis_in_marketing/blob/main/Untitled0.ipynb\" target=\"_parent\"><img src=\"https://colab.research.google.com/assets/colab-badge.svg\" alt=\"Open In Colab\"/></a>"
      ]
    },
    {
      "cell_type": "code",
      "source": [
        "%matplotlib inline\n",
        "\n",
        "from pathlib import Path\n",
        "\n",
        "import pandas as pd\n",
        "import numpy as np\n",
        "from scipy.stats import trim_mean\n",
        "from statsmodels import robust\n",
        "\n",
        "\n",
        "import seaborn as sns\n",
        "import matplotlib.pylab as plt\n",
        "\n",
        "\n",
        "# Table 1-2\n",
        "state = pd.read_csv(\"https://raw.githubusercontent.com/gedeck/practical-statistics-for-data-scientists/master/data/state.csv\")\n",
        "#print(state.head(8))\n",
        "#mean, trimmed mean, and median \n",
        "population  =    state[\"Population\"]\n",
        "#print(population.mean())\n",
        "#6162876.3\n",
        "mean   =    population.mean()\n",
        "median     =    population.median()\n",
        "trim_mean    =trim_mean(state['Population'], 0.1)\n",
        "print(   \"   mean:\" ,    mean    ,   \"       median:\"  ,    median  ,  \"        trim   mean:\"   ,   trim_mean)"
      ],
      "metadata": {
        "colab": {
          "base_uri": "https://localhost:8080/"
        },
        "id": "Ch4jW3V432Y3",
        "outputId": "11d90559-92f0-472c-9e91-9ca95ce6350c"
      },
      "execution_count": 44,
      "outputs": [
        {
          "output_type": "stream",
          "name": "stdout",
          "text": [
            "   mean: 6162876.3        median: 4436369.5         trim   mean: 4783697.125\n"
          ]
        }
      ]
    },
    {
      "cell_type": "code",
      "source": [
        "std  =  population.std()\n",
        "print(std)\n"
      ],
      "metadata": {
        "colab": {
          "base_uri": "https://localhost:8080/"
        },
        "id": "HeWw8btc7E98",
        "outputId": "2dc5da2a-6aa5-4953-a88a-ee73a41a362a"
      },
      "execution_count": 45,
      "outputs": [
        {
          "output_type": "stream",
          "name": "stdout",
          "text": [
            "6848235.347401142\n"
          ]
        }
      ]
    },
    {
      "cell_type": "code",
      "source": [
        "print(population.quantile(0.75)  -    population.quantile(0.25)  ,   '  '  ,  std )"
      ],
      "metadata": {
        "colab": {
          "base_uri": "https://localhost:8080/"
        },
        "id": "le_oge0Q7GhH",
        "outputId": "4c0e3b1a-f89b-4a66-a21c-02ef684aabd9"
      },
      "execution_count": 50,
      "outputs": [
        {
          "output_type": "stream",
          "name": "stdout",
          "text": [
            "4847308.0    6848235.347401142\n"
          ]
        }
      ]
    },
    {
      "cell_type": "code",
      "source": [],
      "metadata": {
        "id": "FKjbEcfyCATI"
      },
      "execution_count": null,
      "outputs": []
    }
  ],
  "metadata": {
    "colab": {
      "collapsed_sections": [],
      "provenance": [],
      "authorship_tag": "ABX9TyNsp2ZWX0fOcMAiqWYgXivF",
      "include_colab_link": true
    },
    "kernelspec": {
      "display_name": "Python 3",
      "name": "python3"
    }
  },
  "nbformat": 4,
  "nbformat_minor": 0
}
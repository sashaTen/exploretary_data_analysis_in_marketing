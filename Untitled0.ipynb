{
  "cells": [
    {
      "cell_type": "markdown",
      "metadata": {
        "id": "view-in-github",
        "colab_type": "text"
      },
      "source": [
        "<a href=\"https://colab.research.google.com/github/sashaTen/python_for_data-_science-/blob/main/Untitled0.ipynb\" target=\"_parent\"><img src=\"https://colab.research.google.com/assets/colab-badge.svg\" alt=\"Open In Colab\"/></a>"
      ]
    },
    {
      "cell_type": "code",
      "source": [
        "#    stats   :\n",
        "# #The typical steps are:\n",
        "# Gathering data\n",
        "# Describing and visualizing data\n",
        "# Making conclusions\n",
        "\n",
        "# If the members of the sample have similar characteristics (like age, profession, etc.)\n",
        "#  to the whole population of France, we say that the sample is representative of the population.\n",
        "\n",
        "# A good representative sample is crucial for statistical methods.\n",
        "# Probability theory is used to calculate the certainty that those statistics also apply to the population.\n",
        "\n",
        "# When using a sample, there will always be some uncertainty about what the data looks like for the population.\n",
        "\n",
        "# Uncertainty is often expressed as confidence intervals.\n",
        "\n",
        "# Hypothesis testing is a another way of checking if a statement about a population is true. More precisely, it checks how likely it is that a hypothesis is true is based on the sample data.\n",
        "\n",
        "# Some examples of statements or questions that can be checked with hypothesis testing:\n",
        "\n",
        "# People in the Netherlands taller than people in Denmark\n",
        "# Do people prefer Pepsi or Coke?\n",
        "# # Does a new medicine cure a disease?\n",
        "# Causal Inference\n",
        "# Causal inference is used to investigate if something causes another thing.\n",
        "\n",
        "# For example: Does rain make plants grow?\n",
        "\n",
        "# If we think two things are related we can investigate to see if they correlate. Statistics can be used to find out how strong this relation is.\n",
        "# The main types of statistical studies are observational and experimental studies.\n",
        "\n",
        "# There are two main types of data: Qualitative (or 'categorical') and quantitative (or 'numerical').\n",
        "#  These main types also have different sub-types depending on their measurement level.\n",
        "# qualitive  : 1   Nominal (brand ,  color   ,  country) 2  ordinal(militry  rank ,   grade)\n",
        "# quantitive  :   1   interval  (year   , temperrature)  2  ratio (money ,  age  , time)\n",
        "\n",
        "# \n",
        "\n",
        "\n",
        "# ratio  and  interval   \n",
        "# interval   -   type  where   you  know the  order   and the   difference\n",
        "# for  example  you   know that    50 degree is  higher  than  1 degree\n",
        "# ratio -     is   about    quantity .   but  they  do  not  provide   the  order\n",
        "\n",
        "# interval   data  is  very   similar  to the    \n",
        "# ordinal  data    \n",
        "# even   the way   we  analyze  them  are   kinda\n",
        "# similar\n",
        "\n",
        "\n",
        "# for   example if   you  are not  sure  about \n",
        "# type  of   data   you  should   just  google\n",
        "# ex:    is  height ratio  or    interval\n",
        "import numpy  as  np \n",
        "\n",
        "c = np.array([[1, 2, 3], [4, 5, 6] ] )\n",
        "# print(c[0,1]+ c[1,2])\n",
        "\n",
        "\n",
        "#lsicing\n",
        "arr = np.array([1, 2, 3, 4, 5, 6, 7])\n",
        "# print(arr[1:5])#  slicing\n",
        "# print(arr[3:])\n",
        "# print(arr[:5])\n",
        "# step\n",
        "# print(arr[2:5:2])/\n",
        "# print(c[0 ,:1] , c[1 ,    1:])    #  slicing  of   two  deminsional  arrays \n",
        "# print(c[0: ,   0])     #  this is  how to   you  can return   first   elelents   from  all dimpirnt\n",
        "\n",
        "# print(c.dtype )\n",
        "# this  is  how you  can  transform  your  data =  by   adding   dtype  =  's'  to     arr\n",
        "\n",
        "# print(c)\n",
        "# The main difference between a copy and a view of an array is that the copy is a new array, and the view is just a view of the original array.\n",
        "# print(c.shape)#/   shape  helps  us   to  see the form   \n",
        "arr = np.array([1, 2, 3, 4, 5, 6, 7, 8, 9, 10, 211, 12])\n",
        "# new_arr =  arr.reshape(4,3)   #\n",
        "# print(new_arr)    very   important  feature   because   you  cAn  reshape   single dimension  array\n",
        "# into    many  \n",
        "# we can  use  for  to  iterate  throught  arrays \n",
        "# iterate   one  dimension\n",
        "# iterate   two    dimension   \n",
        "# and    each  item\n",
        "# for i  in    arr:\n",
        "#   print(i)\n",
        "\n",
        "newarr   =    arr.reshape(3,4)\n",
        "# for  i  in  newarr :\n",
        "#   for   j   in  i:\n",
        "#     print(j)\n",
        "# for i  in   newarr[1]:\n",
        "#   print(i)\n",
        "\n",
        "# print(np.where(newarr==5))     good   searching techniquee which   finds  the   index of the desired  value \n",
        "# x = np.where(newarr%2 == 0)\n",
        "# print(x)\n",
        "#    with   np.methods(here   you  can   do   amazing   manipulations  with   arrays)\n",
        "#   you  can  split  \n",
        "#   you can  filter  the   arrays \n",
        "\n"
      ],
      "metadata": {
        "id": "uVRQjf8UWBcy"
      },
      "execution_count": 1,
      "outputs": []
    },
    {
      "cell_type": "code",
      "source": [
        "import    pandas  as  pd \n",
        "data  =   pd.read_csv(\"https://www.w3schools.com/python/pandas/data.csv.txt\")\n"
      ],
      "metadata": {
        "id": "g144yhk9Tf3z"
      },
      "execution_count": 2,
      "outputs": []
    },
    {
      "cell_type": "code",
      "source": [
        "# let  first  clean   data  /\n",
        "# Empty cells\n",
        "# Data in wrong format\n",
        "# Wrong data\n",
        "# Duplicates\n",
        "\n",
        "# how  to   handle   missing   values     :\n",
        "# you    have  to  know   the reason   why   data   is   missed \n",
        "# Reasons for the missing data from the dataset affect the approach of handling missing data\n",
        "# MCAR ,   Missing At Random (MAR),Missing Not At Random (MNAR) \n",
        "#  (MAR) means that the reason for missing values can be explained by variables \n",
        "#  on which you have complete information as there\n",
        "#   is some relationship between the missing data and other values/data\n",
        "\n",
        "# Missing Not At Random (MNAR)\n",
        "# Missing values depend on the unobserved data.\n",
        "\n",
        "# If there is some structure/pattern in missing data and \n",
        "# other observed data can not explain it, then it is Missing Not At Random (MNAR).\n",
        "\n",
        "# For example, if you check the survey data, you may find that all the people have answered their ‘Gender’\n",
        "#  but ‘Age’ values are mostly missing for people who have answered their ‘Gender’ as ‘female’.\n",
        "#  (The reason being most of the females don’t want to reveal their age.)\n",
        "# example, people having less income may refuse to share that information in a survey.\n",
        "# Analyze each column with missing values carefully to understand the reasons behind the missing values as it is crucial to find out the strategy for handling the missing values.\n",
        "# There are 2 primary ways of handling missing values:\n",
        "\n",
        "# Deleting the Missing values\n",
        "# Imputing the Missing Values\n",
        "\n",
        "\n",
        "# If the missing value is of the type Missing Not At Random (MNAR), then it should not be deleted.\n",
        "# you  can    delete   entire  row  or   entire  column \n",
        "\n",
        "\n",
        "\n",
        "# in  other    cases    you  can    just    impute   values \n",
        "# you  can   replace  with   0 \n",
        "# if    outliers  are  significant   replace with  median \n",
        "# and   in   ohter  cases  with    mean \n",
        "# in case  of time  series   replace with  previous   data  \n",
        "# or  with   next   values \n",
        "\n",
        "# imputing  values  of the  categiriacal   features :\n",
        "# you  can  replace  with   most  frequent  value  \n",
        "# but  sometimes   it  is   good   just to  live   data   as  it  is   aka   missed \n",
        "\n",
        "\n",
        "# data[\"Calories\"].fillna(555555, inplace = True)\n",
        "mean = data[\"Calories\"].mean()\n",
        "data[\"Calories\"].fillna(mean, inplace = True)\n",
        "\n",
        "\n",
        "for x in data.index:\n",
        "  if data.loc[x, \"Duration\"] > 120:\n",
        "    data.loc[x, \"Duration\"] = 120\n",
        "\n",
        "print(data.to_string())"
      ],
      "metadata": {
        "colab": {
          "base_uri": "https://localhost:8080/"
        },
        "id": "i41Q4GebXpju",
        "outputId": "c1bbb05f-8f2d-4fcd-f1b3-5b20c5e9298b"
      },
      "execution_count": 3,
      "outputs": [
        {
          "output_type": "stream",
          "name": "stdout",
          "text": [
            "     Duration  Pulse  Maxpulse     Calories\n",
            "0          60    110       130   409.100000\n",
            "1          60    117       145   479.000000\n",
            "2          60    103       135   340.000000\n",
            "3          45    109       175   282.400000\n",
            "4          45    117       148   406.000000\n",
            "5          60    102       127   300.000000\n",
            "6          60    110       136   374.000000\n",
            "7          45    104       134   253.300000\n",
            "8          30    109       133   195.100000\n",
            "9          60     98       124   269.000000\n",
            "10         60    103       147   329.300000\n",
            "11         60    100       120   250.700000\n",
            "12         60    106       128   345.300000\n",
            "13         60    104       132   379.300000\n",
            "14         60     98       123   275.000000\n",
            "15         60     98       120   215.200000\n",
            "16         60    100       120   300.000000\n",
            "17         45     90       112   375.790244\n",
            "18         60    103       123   323.000000\n",
            "19         45     97       125   243.000000\n",
            "20         60    108       131   364.200000\n",
            "21         45    100       119   282.000000\n",
            "22         60    130       101   300.000000\n",
            "23         45    105       132   246.000000\n",
            "24         60    102       126   334.500000\n",
            "25         60    100       120   250.000000\n",
            "26         60     92       118   241.000000\n",
            "27         60    103       132   375.790244\n",
            "28         60    100       132   280.000000\n",
            "29         60    102       129   380.300000\n",
            "30         60     92       115   243.000000\n",
            "31         45     90       112   180.100000\n",
            "32         60    101       124   299.000000\n",
            "33         60     93       113   223.000000\n",
            "34         60    107       136   361.000000\n",
            "35         60    114       140   415.000000\n",
            "36         60    102       127   300.000000\n",
            "37         60    100       120   300.000000\n",
            "38         60    100       120   300.000000\n",
            "39         45    104       129   266.000000\n",
            "40         45     90       112   180.100000\n",
            "41         60     98       126   286.000000\n",
            "42         60    100       122   329.400000\n",
            "43         60    111       138   400.000000\n",
            "44         60    111       131   397.000000\n",
            "45         60     99       119   273.000000\n",
            "46         60    109       153   387.600000\n",
            "47         45    111       136   300.000000\n",
            "48         45    108       129   298.000000\n",
            "49         60    111       139   397.600000\n",
            "50         60    107       136   380.200000\n",
            "51         80    123       146   643.100000\n",
            "52         60    106       130   263.000000\n",
            "53         60    118       151   486.000000\n",
            "54         30    136       175   238.000000\n",
            "55         60    121       146   450.700000\n",
            "56         60    118       121   413.000000\n",
            "57         45    115       144   305.000000\n",
            "58         20    153       172   226.400000\n",
            "59         45    123       152   321.000000\n",
            "60        120    108       160  1376.000000\n",
            "61        120    110       137  1034.400000\n",
            "62        120    109       135   853.000000\n",
            "63         45    118       141   341.000000\n",
            "64         20    110       130   131.400000\n",
            "65        120     90       130   800.400000\n",
            "66        120    105       135   873.400000\n",
            "67        120    107       130   816.000000\n",
            "68         20    106       136   110.400000\n",
            "69        120    108       143  1500.200000\n",
            "70        120     97       129  1115.000000\n",
            "71         60    109       153   387.600000\n",
            "72         90    100       127   700.000000\n",
            "73        120     97       127   953.200000\n",
            "74         45    114       146   304.000000\n",
            "75         90     98       125   563.200000\n",
            "76         45    105       134   251.000000\n",
            "77         45    110       141   300.000000\n",
            "78        120    100       130   500.400000\n",
            "79        120    100       131  1729.000000\n",
            "80         30    159       182   319.200000\n",
            "81         45    149       169   344.000000\n",
            "82         30    103       139   151.100000\n",
            "83        120    100       130   500.000000\n",
            "84         45    100       120   225.300000\n",
            "85         30    151       170   300.000000\n",
            "86         45    102       136   234.000000\n",
            "87        120    100       157  1000.100000\n",
            "88         45    129       103   242.000000\n",
            "89         20     83       107    50.300000\n",
            "90        120    101       127   600.100000\n",
            "91         45    107       137   375.790244\n",
            "92         30     90       107   105.300000\n",
            "93         15     80       100    50.500000\n",
            "94         20    150       171   127.400000\n",
            "95         20    151       168   229.400000\n",
            "96         30     95       128   128.200000\n",
            "97         25    152       168   244.200000\n",
            "98         30    109       131   188.200000\n",
            "99         90     93       124   604.100000\n",
            "100        20     95       112    77.700000\n",
            "101        90     90       110   500.000000\n",
            "102        90     90       100   500.000000\n",
            "103        90     90       100   500.400000\n",
            "104        30     92       108    92.700000\n",
            "105        30     93       128   124.000000\n",
            "106       120     90       120   800.300000\n",
            "107        30     90       120    86.200000\n",
            "108        90     90       120   500.300000\n",
            "109       120    137       184  1860.400000\n",
            "110        60    102       124   325.200000\n",
            "111        45    107       124   275.000000\n",
            "112        15    124       139   124.200000\n",
            "113        45    100       120   225.300000\n",
            "114        60    108       131   367.600000\n",
            "115        60    108       151   351.700000\n",
            "116        60    116       141   443.000000\n",
            "117        60     97       122   277.400000\n",
            "118        60    105       125   375.790244\n",
            "119        60    103       124   332.700000\n",
            "120        30    112       137   193.900000\n",
            "121        45    100       120   100.700000\n",
            "122        60    119       169   336.700000\n",
            "123        60    107       127   344.900000\n",
            "124        60    111       151   368.500000\n",
            "125        60     98       122   271.000000\n",
            "126        60     97       124   275.300000\n",
            "127        60    109       127   382.000000\n",
            "128        90     99       125   466.400000\n",
            "129        60    114       151   384.000000\n",
            "130        60    104       134   342.500000\n",
            "131        60    107       138   357.500000\n",
            "132        60    103       133   335.000000\n",
            "133        60    106       132   327.500000\n",
            "134        60    103       136   339.000000\n",
            "135        20    136       156   189.000000\n",
            "136        45    117       143   317.700000\n",
            "137        45    115       137   318.000000\n",
            "138        45    113       138   308.000000\n",
            "139        20    141       162   222.400000\n",
            "140        60    108       135   390.000000\n",
            "141        60     97       127   375.790244\n",
            "142        45    100       120   250.400000\n",
            "143        45    122       149   335.400000\n",
            "144        60    136       170   470.200000\n",
            "145        45    106       126   270.800000\n",
            "146        60    107       136   400.000000\n",
            "147        60    112       146   361.900000\n",
            "148        30    103       127   185.000000\n",
            "149        60    110       150   409.400000\n",
            "150        60    106       134   343.000000\n",
            "151        60    109       129   353.200000\n",
            "152        60    109       138   374.000000\n",
            "153        30    150       167   275.800000\n",
            "154        60    105       128   328.000000\n",
            "155        60    111       151   368.500000\n",
            "156        60     97       131   270.400000\n",
            "157        60    100       120   270.400000\n",
            "158        60    114       150   382.800000\n",
            "159        30     80       120   240.900000\n",
            "160        30     85       120   250.400000\n",
            "161        45     90       130   260.400000\n",
            "162        45     95       130   270.000000\n",
            "163        45    100       140   280.900000\n",
            "164        60    105       140   290.800000\n",
            "165        60    110       145   300.000000\n",
            "166        60    115       145   310.200000\n",
            "167        75    120       150   320.400000\n",
            "168        75    125       150   330.400000\n"
          ]
        }
      ]
    },
    {
      "cell_type": "code",
      "source": [
        "# Histograms\n",
        "# A histogram is a widely used graph to show the distribution of quantitative (numerical) data.\n",
        "\n",
        "print(data[\"Duration\"].hist())\n",
        "\n"
      ],
      "metadata": {
        "colab": {
          "base_uri": "https://localhost:8080/",
          "height": 282
        },
        "id": "yx__RhIS5xy8",
        "outputId": "c1990b32-cd9f-4a2f-985b-9a949d9b0af1"
      },
      "execution_count": 4,
      "outputs": [
        {
          "output_type": "stream",
          "name": "stdout",
          "text": [
            "AxesSubplot(0.125,0.125;0.775x0.755)\n"
          ]
        },
        {
          "output_type": "display_data",
          "data": {
            "text/plain": [
              "<Figure size 432x288 with 1 Axes>"
            ],
            "image/png": "[encoded data removed]"
          },
          "metadata": {
            "needs_background": "light"
          }
        }
      ]
    },
    {
      "cell_type": "code",
      "source": [],
      "metadata": {
        "id": "kKiqA4161RYJ"
      },
      "execution_count": 4,
      "outputs": []
    },
    {
      "cell_type": "code",
      "source": [
        "print(data[\"Calories\"].hist())\n",
        "#   literally   histogram   and the   frequency  tables   show the   same  thing "
      ],
      "metadata": {
        "colab": {
          "base_uri": "https://localhost:8080/",
          "height": 282
        },
        "id": "LJRC_NVR7zK1",
        "outputId": "e3ff78e4-e23a-4d42-82d0-3da082058581"
      },
      "execution_count": 5,
      "outputs": [
        {
          "output_type": "stream",
          "name": "stdout",
          "text": [
            "AxesSubplot(0.125,0.125;0.775x0.755)\n"
          ]
        },
        {
          "output_type": "display_data",
          "data": {
            "text/plain": [
              "<Figure size 432x288 with 1 Axes>"
            ],
            "image/png": "[encoded data removed]"
          },
          "metadata": {
            "needs_background": "light"
          }
        }
      ]
    },
    {
      "cell_type": "code",
      "source": [
        "#Bar graphs are used show the distribution of qualitative (categorical) data.\n",
        "  "
      ],
      "metadata": {
        "id": "ezq0lRYe8TDI"
      },
      "execution_count": 6,
      "outputs": []
    },
    {
      "cell_type": "code",
      "source": [
        "# Pie graphs are used to show the distribution of qualitative (categorical) data.\n"
      ],
      "metadata": {
        "id": "oLB7xohK8pSJ"
      },
      "execution_count": 7,
      "outputs": []
    },
    {
      "cell_type": "code",
      "source": [
        "# A box plot is a good way to show many important features of quantitative (numerical) data.\n",
        "# Boxplot is also used for detect the outlier in data set.\n",
        "#  It captures the summary of the data efficiently with a \n",
        "# simple box and whiskers and allows us to compare easily across groups.\n",
        "\n",
        "\n",
        "# A box plot consist of 5 things.\n",
        "\n",
        "# Minimum\n",
        "# First Quartile or 25%\n",
        "# Median (Second Quartile) or 50%\n",
        "# Third Quartile or 75%\n",
        "# Maximum\n",
        "\n",
        "print(\n",
        "data[\"Duration\"].plot.box()\n",
        "    \n",
        ")"
      ],
      "metadata": {
        "colab": {
          "base_uri": "https://localhost:8080/",
          "height": 282
        },
        "id": "ibObwwmu83aq",
        "outputId": "8314d403-02b6-4020-992d-58b97f8af574"
      },
      "execution_count": 8,
      "outputs": [
        {
          "output_type": "stream",
          "name": "stdout",
          "text": [
            "AxesSubplot(0.125,0.125;0.775x0.755)\n"
          ]
        },
        {
          "output_type": "display_data",
          "data": {
            "text/plain": [
              "<Figure size 432x288 with 1 Axes>"
            ],
            "image/png": "[encoded data removed]"
          },
          "metadata": {
            "needs_background": "light"
          }
        }
      ]
    },
    {
      "cell_type": "code",
      "source": [
        "# averages \n",
        "print(data[\"Calories\"].mean(),    '  is   mean   ')\n",
        "# Variation is a measure of how spread out the data is around the center of the data.\n",
        "\n",
        "\n"
      ],
      "metadata": {
        "colab": {
          "base_uri": "https://localhost:8080/"
        },
        "id": "Ng0q551K-2xA",
        "outputId": "a8b19e2b-c816-4468-ec78-e69761d12c84"
      },
      "execution_count": 9,
      "outputs": [
        {
          "output_type": "stream",
          "name": "stdout",
          "text": [
            "375.79024390243904   is   mean   \n"
          ]
        }
      ]
    },
    {
      "cell_type": "code",
      "source": [
        "# There are different measures of variation. The most commonly used are:\n",
        "\n",
        "# Range\n",
        "# Quartiles and Percentiles\n",
        "# Interquartile Range\n",
        "# Standard Deviation\n",
        "\n",
        "\n"
      ],
      "metadata": {
        "id": "egThsodW_NvC"
      },
      "execution_count": 10,
      "outputs": []
    },
    {
      "cell_type": "code",
      "source": [
        "# Using data analysis and statistics to make conclusions about a population is called statistical inference.\n",
        "# The main types of statistical inference are:\n",
        "\n",
        "# Estimation\n",
        "# Hypothesis testing  \n",
        "\n",
        "\n",
        "# Estimation\n",
        "# Statistics from a sample are used to estimate population parameters.\n",
        "\n",
        "# The most likely value is called a point estimate.\n",
        "\n",
        "# There is always uncertainty when estimating.\n",
        "\n",
        "# The uncertainty is often expressed as confidence intervals defined by a likely lowest and highest value for the parameter.\n",
        "\n",
        "# An example could be a confidence interval for the number of bicycles a Dutch person owns:\n",
        "\n",
        "# \"The average number of bikes a Dutch person owns is between 3.5 and 6.\"\n",
        "\n",
        "# Hypothesis Testing\n",
        "# Hypothesis testing is a method to check if a claim about a population is true. More precisely, it checks how likely it is that a hypothesis is true is based on the sample data.\n",
        "\n",
        "# There are different types of hypothesis testing.\n",
        "\n",
        "# The steps of the test depends on:\n",
        "\n",
        "# Type of data (categorical or numerical)\n",
        "# If you are looking at:\n",
        "# A single group\n",
        "# Comparing one group to another\n",
        "# Comparing the same group before and after a change\n",
        "# Some examples of claims or questions that can be checked with hypothesis testing:\n",
        "\n",
        "# 90% of Australians are left handed\n",
        "# Is the average weight of dogs more than 40kg?\n",
        "# Do doctors make more money than lawyers?\n",
        "# Probability Distributions\n",
        "# Statistical inference methods rely on probability calculation and probability distributions.\n",
        "\n",
        "# #common   overview  :\n",
        "# 1    normal     distribution   is    a   bell   curve  and  most \n",
        "# of  real  world data  is     normally  distributed \n",
        "# 2   standart   distribution  is    same  as normal   distribution \n",
        "# but    the mena  is   0  and the   sd   is   1 \n",
        "# 3 you   use     t-   distribution   when    you   have  extra   uncertanties  about the mean  aka   average \n",
        "# Statistics - Estimation\n",
        "# Point estimates are the most likely value for a population parameter.\n",
        "\n",
        "# Confidence intervals express the uncertainty of an estimated population parameter.\n",
        "new_data    =    pd.read_csv(\"https://raw.githubusercontent.com/gchoi/Dataset/master/DirectMarketing.csv\")\n",
        "\n"
      ],
      "metadata": {
        "id": "CSIiLZrQ1Tma"
      },
      "execution_count": 12,
      "outputs": []
    },
    {
      "cell_type": "code",
      "source": [
        "# deal with a lot of data and the process of finding patterns\n",
        "# in data acquires a lot of studies depending on the probability distribution.\n",
        "# categorization of a probability distribution that can be followed by categorization of the data.\n",
        "# recognizing patterns in  smaples \n",
        "# 2 types   of  data   : \n",
        "# numerical  \n",
        "#   1   descrete  aka    units   like   people\n",
        "#   2   continious  like   height  of  tree\n",
        "\n",
        "\n",
        "# */*/*/  for  example  you   hvae   90  %   of  positive  reviews \n",
        "# which   means    that   90  out   100    people said  it is good \n",
        "\n",
        "\n",
        "# So, the theoretical probabilities = 1/2= 0.5\n",
        "# All of the possible results individually are called outcomes. And all of the possible results on the given condition together are called events.\n",
        "# when   two  probabilites   use the  same   space of  outcomes  they  are      exhaustive\n",
        "\n",
        "\n",
        "# probabilty     goes from   0 to   1 \n",
        "# 40%  of rain   is   0.4    in  probability\n",
        "\n",
        "\n",
        "\n",
        "# we need  the    distributions   because we cant   analeze  the whole   population \n",
        "# so   havimg    the     distribution  is  good  to  predict the  outcome \n",
        "\n",
        "\n",
        "\n",
        "\n",
        "#  Probability is the long-term chance that a certain outcome will occur from some random process.\n",
        "#   It basically tells you how often different kinds of events will happen.\n",
        "\n",
        "\n",
        "# for  example   you ask   2000  germans   about  death  penalty .\n",
        "# 60%     said  they  are   ok  with  it   \n",
        "# so     it  does  not   mean   that   whole  population  of  germany \n",
        "# which   is  80  million  will  perfrom   the  same  way  .\n",
        "# it  will  not   be   same   60%    as    in case  of   2000\n",
        "# generalization holds the secret to prediction.  which   is  the distribution\n",
        "\n",
        "# Lots of probability distributions models exist for different situations, and the key point is that you have to select the right one that \n",
        "# fits your data and helps you explain what you’re trying to understand.\n",
        "#  Because the type of random variable is a key parameter when defining which probability distribution model you should choose.\n",
        "\n",
        "# There are 2 major types of random variables:\n",
        "# descrete   and  continious\n",
        "# descrete   does  not  have the scale   .  you  just   count   them\n",
        "# and the  continious   you    have  the   \"scale \"\n",
        "\n",
        "# for  example     50 humans   are   not more  human  then  20  humans \n",
        "# and the   temperare  of the   50degree  is   higher  than  20  degree\n",
        "\n",
        "\n",
        "\n",
        "# Once again, we do this because estimating or inferring parameters is easier than dealing with real life. \n",
        "# We need statistics to describe our available data, understand it,\n",
        "#  and then blend it with probability to guess how the “real” (non-available) data behaves.\n",
        "\n",
        "# you   have   hyposthesis \n",
        "# then    you   pick   the  population\n",
        "# you collect  data\n",
        "# make  sample\n",
        "# you   do  eda   \n",
        "# you   look  at  data  type  and  do   distribution\n",
        "# and  probabilty \n",
        "# then     you  check   hypothesis \n",
        "\n",
        "\n",
        "\n",
        "\n",
        "\n",
        "\n",
        "\n"
      ],
      "metadata": {
        "id": "jBxLnxRuLRFB"
      },
      "execution_count": null,
      "outputs": []
    }
  ],
  "metadata": {
    "colab": {
      "provenance": [],
      "authorship_tag": "ABX9TyMffZ6VP0LxqvsqI/m5FM4U",
      "include_colab_link": true
    },
    "kernelspec": {
      "display_name": "Python 3",
      "name": "python3"
    }
  },
  "nbformat": 4,
  "nbformat_minor": 0
}
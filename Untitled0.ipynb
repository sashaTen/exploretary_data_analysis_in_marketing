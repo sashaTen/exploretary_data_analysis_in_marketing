{
  "nbformat": 4,
  "nbformat_minor": 0,
  "metadata": {
    "colab": {
      "provenance": [],
      "mount_file_id": "1pt8kBtFfm6-2actbE4gR6JXsTbFhThJF",
      "authorship_tag": "ABX9TyO4JAPak+vbwu8XRoi4OTIH",
      "include_colab_link": true
    },
    "kernelspec": {
      "name": "python3",
      "display_name": "Python 3"
    },
    "language_info": {
      "name": "python"
    }
  },
  "cells": [
    {
      "cell_type": "markdown",
      "metadata": {
        "id": "view-in-github",
        "colab_type": "text"
      },
      "source": [
        "<a href=\"https://colab.research.google.com/github/sashaTen/python_for_data-_science-/blob/main/Untitled0.ipynb\" target=\"_parent\"><img src=\"https://colab.research.google.com/assets/colab-badge.svg\" alt=\"Open In Colab\"/></a>"
      ]
    },
    {
      "cell_type": "code",
      "execution_count": 11,
      "metadata": {
        "colab": {
          "base_uri": "https://localhost:8080/"
        },
        "id": "K2dYqCRnDKPf",
        "outputId": "35672f00-f672-4df2-a0a1-43a510898123"
      },
      "outputs": [
        {
          "output_type": "stream",
          "name": "stdout",
          "text": [
            "weight_pounds         float64\n",
            "state                  object\n",
            "year                    int64\n",
            "month                   int64\n",
            "child_race            float64\n",
            "plurality               int64\n",
            "mother_race           float64\n",
            "mother_age              int64\n",
            "cigarette_use          object\n",
            "cigarettes_per_day    float64\n",
            "alcohol_use            object\n",
            "drinks_per_week       float64\n",
            "father_race           float64\n",
            "father_age              int64\n",
            "is_male                  bool\n",
            "gestation_weeks         int64\n",
            "dtype: object\n"
          ]
        }
      ],
      "source": [
        "import    pandas  as  pd \n",
        "import numpy as np\n",
        "import matplotlib.pyplot as plt\n",
        "import seaborn as sns\n",
        "\n",
        "\n",
        "#   TEST   DATA \n",
        "\n",
        "# # https://raw.githubusercontent.com/dsindy/kaggle-titanic/master/data/test.csv   //  \n",
        "# print(df.head(45).to_string())\n",
        "\n",
        "\n",
        "\n",
        "\n",
        "\n",
        "\n",
        "\n",
        "df=pd.read_csv(\"/content/drive/MyDrive/data   science /us_new_born_2million.csv\")\n",
        "print(df.dtypes)\n"
      ]
    },
    {
      "cell_type": "code",
      "source": [
        "print(df.count())\n",
        "print(df.shape)\n",
        "print(\"  data    info  ()  \")\n",
        "print(df.info)\n",
        "print(\"describe    method ()\")\n",
        "print(df.describe())"
      ],
      "metadata": {
        "colab": {
          "base_uri": "https://localhost:8080/"
        },
        "id": "_7Nwi9H8zzYw",
        "outputId": "310acfe3-842c-4935-efd7-b437c451994e"
      },
      "execution_count": 16,
      "outputs": [
        {
          "output_type": "stream",
          "name": "stdout",
          "text": [
            "weight_pounds         1996905\n",
            "state                 1998246\n",
            "year                  1998246\n",
            "month                 1998246\n",
            "child_race                  0\n",
            "plurality             1998246\n",
            "mother_race           1771388\n",
            "mother_age            1998246\n",
            "cigarette_use         1492553\n",
            "cigarettes_per_day     140464\n",
            "alcohol_use           1492553\n",
            "drinks_per_week        140464\n",
            "father_race           1771388\n",
            "father_age            1998246\n",
            "is_male               1998246\n",
            "gestation_weeks       1998246\n",
            "dtype: int64\n",
            "(1998246, 16)\n",
            "  data    info  ()  \n",
            "<bound method DataFrame.info of          weight_pounds state  year  month  child_race  plurality  mother_race  \\\n",
            "0             7.813183    GA  2003      9         NaN          1          1.0   \n",
            "1             8.000575    GA  2003      1         NaN          1          1.0   \n",
            "2             7.251004    GA  2003     12         NaN          1          1.0   \n",
            "3             9.568062    GA  2003      4         NaN          1          7.0   \n",
            "4             7.187070    GA  2004      2         NaN          1          1.0   \n",
            "...                ...   ...   ...    ...         ...        ...          ...   \n",
            "1998241       7.228958    HI  2003      9         NaN          1         38.0   \n",
            "1998242       6.375769    IL  2003      1         NaN          1          2.0   \n",
            "1998243       6.375769    MD  2004      8         NaN          1          2.0   \n",
            "1998244       6.750554    MS  2004     12         NaN          2          2.0   \n",
            "1998245       5.690131    NY  2003     10         NaN          1          2.0   \n",
            "\n",
            "         mother_age cigarette_use  cigarettes_per_day alcohol_use  \\\n",
            "0                34         False                 NaN       False   \n",
            "1                37          True                15.0        True   \n",
            "2                30         False                 NaN       False   \n",
            "3                39         False                 NaN       False   \n",
            "4                38         False                 NaN       False   \n",
            "...             ...           ...                 ...         ...   \n",
            "1998241          35         False                 NaN       False   \n",
            "1998242          32          True                 6.0        True   \n",
            "1998243          30         False                 NaN       False   \n",
            "1998244          29         False                 NaN       False   \n",
            "1998245          31          True                 9.0        True   \n",
            "\n",
            "         drinks_per_week  father_race  father_age  is_male  gestation_weeks  \n",
            "0                    NaN          1.0          39    False               39  \n",
            "1                    0.0          1.0          31     True               41  \n",
            "2                    NaN          1.0          38    False               40  \n",
            "3                    NaN          1.0          39     True               40  \n",
            "4                    NaN          1.0          39     True               40  \n",
            "...                  ...          ...         ...      ...              ...  \n",
            "1998241              NaN         99.0          99     True               40  \n",
            "1998242              0.0         99.0          99     True               38  \n",
            "1998243              NaN         99.0          48    False               39  \n",
            "1998244              NaN         99.0          99    False               40  \n",
            "1998245              0.0         99.0          99     True               38  \n",
            "\n",
            "[1998246 rows x 16 columns]>\n",
            "describe    method ()\n",
            "       weight_pounds          year         month  child_race     plurality  \\\n",
            "count   1.996905e+06  1.998246e+06  1.998246e+06         0.0  1.998246e+06   \n",
            "mean    7.254607e+00  2.003501e+03  6.571805e+00         NaN  1.033890e+00   \n",
            "std     1.299295e+00  4.999984e-01  3.418615e+00         NaN  1.914907e-01   \n",
            "min     5.004493e-01  2.003000e+03  1.000000e+00         NaN  1.000000e+00   \n",
            "25%     6.580799e+00  2.003000e+03  4.000000e+00         NaN  1.000000e+00   \n",
            "50%     7.319347e+00  2.004000e+03  7.000000e+00         NaN  1.000000e+00   \n",
            "75%     8.062305e+00  2.004000e+03  9.000000e+00         NaN  1.000000e+00   \n",
            "max     1.800074e+01  2.004000e+03  1.200000e+01         NaN  5.000000e+00   \n",
            "\n",
            "        mother_race    mother_age  cigarettes_per_day  drinks_per_week  \\\n",
            "count  1.771388e+06  1.998246e+06       140464.000000    140464.000000   \n",
            "mean   3.256038e+00  2.688300e+01           19.285618         1.131770   \n",
            "std    1.112312e+01  6.112028e+00           28.597060        10.243559   \n",
            "min    1.000000e+00  1.200000e+01            1.000000         0.000000   \n",
            "25%    1.000000e+00  2.200000e+01            5.000000         0.000000   \n",
            "50%    1.000000e+00  2.700000e+01           10.000000         0.000000   \n",
            "75%    1.000000e+00  3.100000e+01           20.000000         0.000000   \n",
            "max    7.800000e+01  5.400000e+01           99.000000        99.000000   \n",
            "\n",
            "        father_race    father_age  gestation_weeks  \n",
            "count  1.771388e+06  1.998246e+06     1.998246e+06  \n",
            "mean   1.757917e+01  3.950267e+01     3.867829e+01  \n",
            "std    3.567173e+01  2.449208e+01     2.533674e+00  \n",
            "min    1.000000e+00  1.100000e+01     1.700000e+01  \n",
            "25%    1.000000e+00  2.600000e+01     3.800000e+01  \n",
            "50%    1.000000e+00  3.100000e+01     3.900000e+01  \n",
            "75%    2.000000e+00  3.800000e+01     4.000000e+01  \n",
            "max    9.900000e+01  9.900000e+01     4.700000e+01  \n"
          ]
        }
      ]
    },
    {
      "cell_type": "code",
      "source": [
        "#[1998246 rows x 16 columns]\n",
        "for col in df.columns:\n",
        "    num_missing = df[col].isnull().sum()\n",
        "    pct_missing = num_missing / len(df) * 100\n",
        "    print(f\"the number  of    missing   values  in {col}    is    : {num_missing} and   it  is   ({pct_missing:.2f}%) \")\n"
      ],
      "metadata": {
        "colab": {
          "base_uri": "https://localhost:8080/"
        },
        "id": "pdQlE9LH0ji6",
        "outputId": "759a3bd8-0ea0-44c2-dff2-48db03606bd6"
      },
      "execution_count": 19,
      "outputs": [
        {
          "output_type": "stream",
          "name": "stdout",
          "text": [
            "the number  of    missing   values  in weight_pounds    is    : 1341 and   it  is   (0.07%) \n",
            "the number  of    missing   values  in state    is    : 0 and   it  is   (0.00%) \n",
            "the number  of    missing   values  in year    is    : 0 and   it  is   (0.00%) \n",
            "the number  of    missing   values  in month    is    : 0 and   it  is   (0.00%) \n",
            "the number  of    missing   values  in child_race    is    : 1998246 and   it  is   (100.00%) \n",
            "the number  of    missing   values  in plurality    is    : 0 and   it  is   (0.00%) \n",
            "the number  of    missing   values  in mother_race    is    : 226858 and   it  is   (11.35%) \n",
            "the number  of    missing   values  in mother_age    is    : 0 and   it  is   (0.00%) \n",
            "the number  of    missing   values  in cigarette_use    is    : 505693 and   it  is   (25.31%) \n",
            "the number  of    missing   values  in cigarettes_per_day    is    : 1857782 and   it  is   (92.97%) \n",
            "the number  of    missing   values  in alcohol_use    is    : 505693 and   it  is   (25.31%) \n",
            "the number  of    missing   values  in drinks_per_week    is    : 1857782 and   it  is   (92.97%) \n",
            "the number  of    missing   values  in father_race    is    : 226858 and   it  is   (11.35%) \n",
            "the number  of    missing   values  in father_age    is    : 0 and   it  is   (0.00%) \n",
            "the number  of    missing   values  in is_male    is    : 0 and   it  is   (0.00%) \n",
            "the number  of    missing   values  in gestation_weeks    is    : 0 and   it  is   (0.00%) \n"
          ]
        }
      ]
    },
    {
      "cell_type": "markdown",
      "source": [
        "# New Section"
      ],
      "metadata": {
        "id": "V7bWZwDPyfc-"
      }
    }
  ]
}
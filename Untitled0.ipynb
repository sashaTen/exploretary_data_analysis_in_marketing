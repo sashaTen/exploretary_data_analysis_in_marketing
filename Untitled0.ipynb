{
  "cells": [
    {
      "cell_type": "markdown",
      "metadata": {
        "id": "view-in-github",
        "colab_type": "text"
      },
      "source": [
        "<a href=\"https://colab.research.google.com/github/sashaTen/python_for_data-_science-/blob/main/Untitled0.ipynb\" target=\"_parent\"><img src=\"https://colab.research.google.com/assets/colab-badge.svg\" alt=\"Open In Colab\"/></a>"
      ]
    },
    {
      "cell_type": "code",
      "source": [
        "#    stats   :\n",
        "# #The typical steps are:\n",
        "# Gathering data\n",
        "# Describing and visualizing data\n",
        "# Making conclusions\n",
        "\n",
        "# If the members of the sample have similar characteristics (like age, profession, etc.)\n",
        "#  to the whole population of France, we say that the sample is representative of the population.\n",
        "\n",
        "# A good representative sample is crucial for statistical methods.\n",
        "# Probability theory is used to calculate the certainty that those statistics also apply to the population.\n",
        "\n",
        "# When using a sample, there will always be some uncertainty about what the data looks like for the population.\n",
        "\n",
        "# Uncertainty is often expressed as confidence intervals.\n",
        "\n",
        "# Hypothesis testing is a another way of checking if a statement about a population is true. More precisely, it checks how likely it is that a hypothesis is true is based on the sample data.\n",
        "\n",
        "# Some examples of statements or questions that can be checked with hypothesis testing:\n",
        "\n",
        "# People in the Netherlands taller than people in Denmark\n",
        "# Do people prefer Pepsi or Coke?\n",
        "# # Does a new medicine cure a disease?\n",
        "# Causal Inference\n",
        "# Causal inference is used to investigate if something causes another thing.\n",
        "\n",
        "# For example: Does rain make plants grow?\n",
        "\n",
        "# If we think two things are related we can investigate to see if they correlate. Statistics can be used to find out how strong this relation is.\n",
        "# The main types of statistical studies are observational and experimental studies.\n",
        "\n",
        "# There are two main types of data: Qualitative (or 'categorical') and quantitative (or 'numerical').\n",
        "#  These main types also have different sub-types depending on their measurement level.\n",
        "# qualitive  : 1   Nominal (brand ,  color   ,  country) 2  ordinal(militry  rank ,   grade)\n",
        "# quantitive  :   1   interval  (year   , temperrature)  2  ratio (money ,  age  , time)\n",
        "\n",
        "# \n",
        "\n",
        "import numpy  as  np \n",
        "\n",
        "c = np.array([[1, 2, 3], [4, 5, 6] ] )\n",
        "# print(c[0,1]+ c[1,2])\n",
        "\n",
        "\n",
        "#lsicing\n",
        "arr = np.array([1, 2, 3, 4, 5, 6, 7])\n",
        "# print(arr[1:5])#  slicing\n",
        "# print(arr[3:])\n",
        "# print(arr[:5])\n",
        "# step\n",
        "# print(arr[2:5:2])/\n",
        "# print(c[0 ,:1] , c[1 ,    1:])    #  slicing  of   two  deminsional  arrays \n",
        "# print(c[0: ,   0])     #  this is  how to   you  can return   first   elelents   from  all dimpirnt\n",
        "\n",
        "# print(c.dtype )\n",
        "# this  is  how you  can  transform  your  data =  by   adding   dtype  =  's'  to     arr\n",
        "\n",
        "# print(c)\n",
        "# The main difference between a copy and a view of an array is that the copy is a new array, and the view is just a view of the original array.\n",
        "# print(c.shape)#/   shape  helps  us   to  see the form   \n",
        "arr = np.array([1, 2, 3, 4, 5, 6, 7, 8, 9, 10, 211, 12])\n",
        "# new_arr =  arr.reshape(4,3)   #\n",
        "# print(new_arr)    very   important  feature   because   you  cAn  reshape   single dimension  array\n",
        "# into    many  \n",
        "# we can  use  for  to  iterate  throught  arrays \n",
        "# iterate   one  dimension\n",
        "# iterate   two    dimension   \n",
        "# and    each  item\n",
        "# for i  in    arr:\n",
        "#   print(i)\n",
        "\n",
        "newarr   =    arr.reshape(3,4)\n",
        "# for  i  in  newarr :\n",
        "#   for   j   in  i:\n",
        "#     print(j)\n",
        "# for i  in   newarr[1]:\n",
        "#   print(i)\n",
        "\n",
        "# print(np.where(newarr==5))     good   searching techniquee which   finds  the   index of the desired  value \n",
        "# x = np.where(newarr%2 == 0)\n",
        "# print(x)\n",
        "#    with   np.methods(here   you  can   do   amazing   manipulations  with   arrays)\n",
        "#   you  can  split  \n",
        "#   you can  filter  the   arrays \n",
        "\n"
      ],
      "metadata": {
        "id": "uVRQjf8UWBcy"
      },
      "execution_count": 1,
      "outputs": []
    },
    {
      "cell_type": "code",
      "source": [
        "import   numpy   as  np  \n",
        "def    numpfunction(first ,  last):\n",
        "  arr=  []\n",
        "  for  i  in   range(first  ,    last):\n",
        "    arr.append(i)\n",
        "  npArr   =    np.array(arr)\n",
        "  return    npArr\n",
        "\n",
        "\n",
        "\n",
        "\n",
        "\n",
        "# gdfgdfgdpofdfpogdpgkdgfdkp \n",
        "list   =  [11,222,3,3,6,6,5,8,0]\n",
        "print(numpfunction(10,100))\n"
      ],
      "metadata": {
        "id": "f06QwO_yUBq4",
        "colab": {
          "base_uri": "https://localhost:8080/"
        },
        "outputId": "79e5bde3-b9ce-46b7-d93e-d19ebfaf55a3"
      },
      "execution_count": 2,
      "outputs": [
        {
          "output_type": "stream",
          "name": "stdout",
          "text": [
            "[10 11 12 13 14 15 16 17 18 19 20 21 22 23 24 25 26 27 28 29 30 31 32 33\n",
            " 34 35 36 37 38 39 40 41 42 43 44 45 46 47 48 49 50 51 52 53 54 55 56 57\n",
            " 58 59 60 61 62 63 64 65 66 67 68 69 70 71 72 73 74 75 76 77 78 79 80 81\n",
            " 82 83 84 85 86 87 88 89 90 91 92 93 94 95 96 97 98 99]\n"
          ]
        }
      ]
    },
    {
      "cell_type": "code",
      "source": [
        "import    pandas   as pd\n",
        "obj    =  {\n",
        "    \"cars\":    [\"bmw\" , \"tico\" ,  \"bently\"],\n",
        "    \"years\" : [1995,25,36]\n",
        "}\n",
        "dt =     pd.DataFrame(obj)\n",
        "# What is a Series?\n",
        "# A Pandas Series is like a column in a table.\n",
        "# It is a one-dimensional array holding data of any type.\n",
        "seria =     pd.Series(obj[\"years\"]  ,   index   =  [\"m\",  \"g\" ,   \"t\"])\n",
        "# print(dt)\n",
        "\n",
        "# print(seria[\"g\"] )  \n",
        "calories   =   {\"one\" : 40005 ,   \"second\" :  7777777 ,     \"third\" :    8585800}\n",
        "theSeria   =     pd.Series(calories)\n",
        "# print(theSeria)\n",
        "data = {\n",
        "  \"calories\": [420, 380, 390],\n",
        "  \"duration\": [50, 40, 45]\n",
        "}\n",
        "\n",
        "myvar = pd.DataFrame(data)\n",
        "\n",
        "\n",
        "my_dict={\n",
        "\t'NAME':['Ravi','Raju','Alex'],\n",
        "\t'ID':[1,2,3],'MATH':[30,40,50],\n",
        "\t'ENGLISH':[20,30,40]\n",
        "\t}\n",
        "df=pd.DataFrame(data=my_dict)\n",
        "\n",
        "data    =    pd.read_json(\"https://www.w3schools.com/python/pandas/data.js\")\n",
        "df2=   pd.DataFrame(obj)\n",
        "# print(df2)\n",
        "if data.isnull().values.any():\n",
        "  cleanData=  data.dropna()\n",
        "  # print(\"no  null   values in    data\")\n",
        "  # print(cleanData)\n",
        "\n",
        "else   : \n",
        "  print(\"no  drop  required\")\n",
        "\n",
        "\n",
        "# how to   deal  with   wrong  format   \n",
        "# remove  row  you   use    dropna()\n",
        "\n",
        "# for x in df.index:\n",
        "#   if df.loc[x, \"Duration\"] > 120:\n",
        "#     df.loc[x, \"Duration\"] = 120\n",
        "\n",
        "# this is   how we  can   detect  and  replace  data\n",
        "\n",
        "\n",
        "# or the   other  way   is   just  to  remove  the entire  row\n",
        "# how to    find   duplicates  \n",
        "print(data)\n",
        "\n",
        "print(\"max   duration \" ,     data[\"Duration\"].max())\n",
        "\n",
        "print(\"max   pulse\" ,     data[\"Pulse\"].max())\n",
        "\n",
        "print(\"max   calories\" ,     data[\"Calories\"].max())\n",
        "\n",
        "\n",
        "\n",
        "data.plot()\n",
        "\n",
        "print(data.index[data['Duration']==data[\"Duration\"].max()],  \"ffffffffffffffffffffffffff\")\n",
        "print(data.loc[data.index[data['Duration']==data[\"Duration\"].max()]] ,   \"row   special\")"
      ],
      "metadata": {
        "colab": {
          "base_uri": "https://localhost:8080/",
          "height": 612
        },
        "id": "Ps2XYbz9-lk8",
        "outputId": "68854ab3-412a-4ca4-cadd-caab21a4cb98"
      },
      "execution_count": 41,
      "outputs": [
        {
          "output_type": "stream",
          "name": "stdout",
          "text": [
            "     Duration  Pulse  Maxpulse  Calories\n",
            "0          60    110       130     409.1\n",
            "1          60    117       145     479.0\n",
            "2          60    103       135     340.0\n",
            "3          45    109       175     282.4\n",
            "4          45    117       148     406.0\n",
            "..        ...    ...       ...       ...\n",
            "164        60    105       140     290.8\n",
            "165        60    110       145     300.4\n",
            "166        60    115       145     310.2\n",
            "167        75    120       150     320.4\n",
            "168        75    125       150     330.4\n",
            "\n",
            "[169 rows x 4 columns]\n",
            "max   duration  300\n",
            "max   pulse 159\n",
            "max   calories 1860.4\n",
            "Int64Index([69], dtype='int64') ffffffffffffffffffffffffff\n",
            "    Duration  Pulse  Maxpulse  Calories\n",
            "69       300    108       143    1500.2 row   special\n"
          ]
        },
        {
          "output_type": "display_data",
          "data": {
            "text/plain": [
              "<Figure size 432x288 with 1 Axes>"
            ],
            "image/png": "[encoded data removed]"
          },
          "metadata": {
            "needs_background": "light"
          }
        }
      ]
    },
    {
      "cell_type": "code",
      "source": [],
      "metadata": {
        "id": "F0xFaQ0P7KvD"
      },
      "execution_count": 3,
      "outputs": []
    }
  ],
  "metadata": {
    "colab": {
      "provenance": [],
      "authorship_tag": "ABX9TyOLZzRRW3wiPF6Mvx7h5SFe",
      "include_colab_link": true
    },
    "kernelspec": {
      "display_name": "Python 3",
      "name": "python3"
    }
  },
  "nbformat": 4,
  "nbformat_minor": 0
}
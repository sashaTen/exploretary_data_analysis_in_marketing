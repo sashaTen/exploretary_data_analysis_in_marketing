{
  "cells": [
    {
      "cell_type": "markdown",
      "metadata": {
        "id": "view-in-github",
        "colab_type": "text"
      },
      "source": [
        "<a href=\"https://colab.research.google.com/github/sashaTen/exploretary_data_analysis_in_marketing/blob/main/Untitled0.ipynb\" target=\"_parent\"><img src=\"https://colab.research.google.com/assets/colab-badge.svg\" alt=\"Open In Colab\"/></a>"
      ]
    },
    {
      "cell_type": "code",
      "source": [
        "%matplotlib inline\n",
        "\n",
        "from pathlib import Path\n",
        "\n",
        "import pandas as pd\n",
        "import numpy as np\n",
        "from scipy.stats import trim_mean\n",
        "from statsmodels import robust\n",
        "\n",
        "\n",
        "import seaborn as sns\n",
        "import matplotlib.pylab as plt\n",
        "\n",
        "\n",
        "# Table 1-2\n",
        "state = pd.read_csv(\"https://raw.githubusercontent.com/gedeck/practical-statistics-for-data-scientists/master/data/state.csv\")\n",
        "#print(state.head(8))\n",
        "#mean, trimmed mean, and median \n",
        "population  =    state[\"Population\"]\n",
        "#print(population.mean())\n",
        "#6162876.3\n",
        "meanPOPULATION  =    population.mean()\n",
        "medianPOPULATION   =    population.median()\n",
        "trim_meanPOPULATION    =trim_mean(state['Population'], 0.1)\n",
        "print(   \"   mean:\" ,    meanPOPULATION    ,   \"       median:\"  ,    medianPOPULATION ,  \"        trim   mean:\"   ,   trim_meanPOPULATION)"
      ],
      "metadata": {
        "colab": {
          "base_uri": "https://localhost:8080/"
        },
        "id": "Ch4jW3V432Y3",
        "outputId": "73124b1f-15a7-4e91-ebe5-1dc924ce226d"
      },
      "execution_count": 1,
      "outputs": [
        {
          "output_type": "stream",
          "name": "stdout",
          "text": [
            "   mean: 6162876.3        median: 4436369.5         trim   mean: 4783697.125\n"
          ]
        }
      ]
    },
    {
      "cell_type": "code",
      "source": [
        "stdPOPULATION  =  population.std()\n",
        "print(stdPOPULATION)\n"
      ],
      "metadata": {
        "colab": {
          "base_uri": "https://localhost:8080/"
        },
        "id": "HeWw8btc7E98",
        "outputId": "99159ee3-9575-41a8-afbb-6b748cd14d71"
      },
      "execution_count": 2,
      "outputs": [
        {
          "output_type": "stream",
          "name": "stdout",
          "text": [
            "6848235.347401142\n"
          ]
        }
      ]
    },
    {
      "cell_type": "code",
      "source": [
        "print(population.quantile(0.75)  -    population.quantile(0.25)  ,   '  '  ,  stdPOPULATION )"
      ],
      "metadata": {
        "colab": {
          "base_uri": "https://localhost:8080/"
        },
        "id": "le_oge0Q7GhH",
        "outputId": "4a19c3f9-fa0a-4e88-ef80-1b6e54fdb9be"
      },
      "execution_count": 3,
      "outputs": [
        {
          "output_type": "stream",
          "name": "stdout",
          "text": [
            "4847308.0    6848235.347401142\n"
          ]
        }
      ]
    },
    {
      "cell_type": "code",
      "source": [
        "print(state[\"Murder.Rate\"].mean() ,   \"  and trim   mean \",     trim_mean(state[\"Murder.Rate\"] ,   0.1))"
      ],
      "metadata": {
        "id": "FKjbEcfyCATI",
        "colab": {
          "base_uri": "https://localhost:8080/"
        },
        "outputId": "458968fe-2f80-4090-ff2a-6540d7a9aa4a"
      },
      "execution_count": 4,
      "outputs": [
        {
          "output_type": "stream",
          "name": "stdout",
          "text": [
            "4.066   and trim   mean  3.9450000000000003\n"
          ]
        }
      ]
    },
    {
      "cell_type": "code",
      "source": [
        "binnedPOPULATION    =   pd.cut(population,  10)\n",
        "print(binnedPOPULATION.value_counts())"
      ],
      "metadata": {
        "colab": {
          "base_uri": "https://localhost:8080/"
        },
        "id": "VIGcDfabZzo3",
        "outputId": "7d9ca123-e3b2-49a0-cf68-553f6e2296cf"
      },
      "execution_count": 5,
      "outputs": [
        {
          "output_type": "stream",
          "name": "stdout",
          "text": [
            "(526935.67, 4232659.0]      24\n",
            "(4232659.0, 7901692.0]      14\n",
            "(7901692.0, 11570725.0]      6\n",
            "(11570725.0, 15239758.0]     2\n",
            "(15239758.0, 18908791.0]     1\n",
            "(18908791.0, 22577824.0]     1\n",
            "(22577824.0, 26246857.0]     1\n",
            "(33584923.0, 37253956.0]     1\n",
            "(26246857.0, 29915890.0]     0\n",
            "(29915890.0, 33584923.0]     0\n",
            "Name: Population, dtype: int64\n"
          ]
        }
      ]
    },
    {
      "cell_type": "code",
      "source": [
        "percentiles =   [0.5,0.25,0.5,0.75,0.95]\n",
        "for x in range(len(percentiles)):\n",
        "  print(   percentiles[x]*10,\"% : \",     state[\"Murder.Rate\"].quantile(percentiles[x]))\n",
        "\n",
        "\n"
      ],
      "metadata": {
        "colab": {
          "base_uri": "https://localhost:8080/"
        },
        "id": "8W_C9dL2BqV-",
        "outputId": "3580f5ac-bf4d-4c2a-d18c-5d13859911ef"
      },
      "execution_count": 6,
      "outputs": [
        {
          "output_type": "stream",
          "name": "stdout",
          "text": [
            "5.0 % :  4.0\n",
            "2.5 % :  2.425\n",
            "5.0 % :  4.0\n",
            "7.5 % :  5.55\n",
            "9.5 % :  6.51\n"
          ]
        }
      ]
    },
    {
      "cell_type": "code",
      "source": [
        "import numpy as np\n",
        "###   JUST    TRIED  TO  UNDERSTAND THE   HISTOGRAMM\n",
        "\n",
        "list = []\n",
        "\n",
        "for x  in  range(10):\n",
        "  list.append(np.random.randint(0, 1000))\n",
        "\n",
        "#print(list)\n",
        "df =    pd.DataFrame(list)\n",
        "#df.hist()\n",
        "list2 =  []\n",
        "for    i   in   range(70):\n",
        "   list2.append(1)\n",
        "df2 =     pd.DataFrame(list2)\n",
        "concated  =   [df  ,   df2]\n",
        "unitedDF =     pd.concat(concated)\n",
        "unitedDF.hist()\n",
        "\n"
      ],
      "metadata": {
        "colab": {
          "base_uri": "https://localhost:8080/",
          "height": 316
        },
        "id": "s8nRaprPFMtD",
        "outputId": "c305af55-48bb-4b7d-a58e-2f494dd74181"
      },
      "execution_count": 10,
      "outputs": [
        {
          "output_type": "execute_result",
          "data": {
            "text/plain": [
              "array([[<matplotlib.axes._subplots.AxesSubplot object at 0x7f4cca7508d0>]],\n",
              "      dtype=object)"
            ]
          },
          "metadata": {},
          "execution_count": 10
        },
        {
          "output_type": "display_data",
          "data": {
            "text/plain": [
              "<Figure size 432x288 with 1 Axes>"
            ],
            "image/png": "[encoded data removed]"
          },
          "metadata": {
            "needs_background": "light"
          }
        }
      ]
    },
    {
      "cell_type": "code",
      "source": [
        "plt.hist(population,  bins=10)\n",
        "plt.show()\n",
        "##       in  histograms    vertical   column   is  the   frequencies . \n",
        "#  top   value   of y-asix   is the biggest   number  of   uccurencies \n",
        "##   the    horizontal   asix   is the  variability . aka  rand out  of  1000  numbers\n",
        "##   so the   1000th  number  will   be   max of  horizontal   line"
      ],
      "metadata": {
        "id": "aChJ5kzaJrDK",
        "colab": {
          "base_uri": "https://localhost:8080/",
          "height": 281
        },
        "outputId": "47507058-03ff-4110-9e13-7f318ce211ac"
      },
      "execution_count": 8,
      "outputs": [
        {
          "output_type": "display_data",
          "data": {
            "text/plain": [
              "<Figure size 432x288 with 1 Axes>"
            ],
            "image/png": "[encoded data removed]"
          },
          "metadata": {
            "needs_background": "light"
          }
        }
      ]
    },
    {
      "cell_type": "code",
      "source": [
        "  #Exploring Binary and Categorical Data   \n",
        "\"\"\"\n",
        "\n",
        "Basic Expected Value Formula\n",
        "The basic expected value formula is the probability of an event multiplied by the amount of times the event happens:\n",
        "(P(x) * n).\n",
        "for  ex  :    test    abcd\n",
        "which is  for   \"a\"   it is   25% \n",
        "to  be  chosen out  of   four\n",
        "so you   have   30  questions  in the test\n",
        "which   means 30*0.25 that   ecpected   value is   7.5\n",
        "maybe\n",
        "\n",
        "////\n",
        "Categorical data is typically summed up in proportions and can be visualized in a\n",
        "bar chart.\n",
        "• Categories might represent distinct things (apples and oranges, male and female),\n",
        "levels of a factor variable (low, medium, and high), or numeric data that has been\n",
        "binned.\n",
        "• Expected value is the sum of values times their probability of occurrence, often\n",
        "used to sum up factor variable levels\n",
        "\n",
        "//////////////////////\n",
        "\n",
        "\n",
        "A bar chart or bar graph is a chart or graph that presents categorical data with rectangular bars with heights or lengths proportional to the values that they represent. The bars can be plotted vertically or horizontally.\n",
        "\n",
        "A bar graph shows comparisons among discrete categories. One axis of the chart shows the specific categories being compared, and the other axis represents a measured value.\n",
        "\"\"\"\n",
        "import matplotlib.pyplot as plt\n",
        "fig = plt.figure()\n",
        "ax = fig.add_axes([0,0,1,1])      #ax.bar(x, height, width, bottom, align)\n",
        "langs = ['C', 'C++', 'Java', 'Python', 'PHP']\n",
        "students = [23,17,35,29,12]\n",
        "ax.bar(langs,students)\n",
        "plt.show()\n"
      ],
      "metadata": {
        "id": "0lr2E4AjLXup",
        "colab": {
          "base_uri": "https://localhost:8080/",
          "height": 336
        },
        "outputId": "7246074a-a5ef-4e4b-a40b-60804ac51892"
      },
      "execution_count": 22,
      "outputs": [
        {
          "output_type": "display_data",
          "data": {
            "text/plain": [
              "<Figure size 432x288 with 1 Axes>"
            ],
            "image/png": "[encoded data removed]"
          },
          "metadata": {
            "needs_background": "light"
          }
        }
      ]
    },
    {
      "cell_type": "code",
      "source": [
        "dfw = pd.read_csv(\"https://raw.githubusercontent.com/gedeck/practical-statistics-for-data-scientists/master/data/dfw_airline.csv\")\n",
        "ax = dfw.transpose().plot.bar()\n",
        "ax.set_xlabel('Cause of delay')\n",
        "ax.set_ylabel('Count')\n",
        "\n",
        "plt.tight_layout()\n",
        "plt.show()\n",
        "# vertical   are  values shared by  categories  and  horizontal  are   categories"
      ],
      "metadata": {
        "colab": {
          "base_uri": "https://localhost:8080/",
          "height": 297
        },
        "id": "tR8s5OcGOx3t",
        "outputId": "749d7717-c19b-4206-b186-b15cbec209b5"
      },
      "execution_count": 30,
      "outputs": [
        {
          "output_type": "display_data",
          "data": {
            "text/plain": [
              "<Figure size 432x288 with 1 Axes>"
            ],
            "image/png": "[encoded data removed]"
          },
          "metadata": {
            "needs_background": "light"
          }
        }
      ]
    }
  ],
  "metadata": {
    "colab": {
      "collapsed_sections": [],
      "provenance": [],
      "authorship_tag": "ABX9TyPeALKo9A/+04cEicAVjxeE",
      "include_colab_link": true
    },
    "kernelspec": {
      "display_name": "Python 3",
      "name": "python3"
    }
  },
  "nbformat": 4,
  "nbformat_minor": 0
}